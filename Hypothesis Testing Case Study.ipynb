{
 "cells": [
  {
   "cell_type": "code",
   "execution_count": 1,
   "id": "7f6df7d4",
   "metadata": {},
   "outputs": [],
   "source": [
    "import pandas as pd\n",
    "import numpy as np\n",
    "import matplotlib.pyplot as plt\n",
    "import seaborn as sns\n",
    "%matplotlib inline\n",
    "import scipy.stats as stats\n",
    "from scipy.stats import chi2_contingency"
   ]
  },
  {
   "cell_type": "code",
   "execution_count": 2,
   "id": "ffe2997b",
   "metadata": {},
   "outputs": [
    {
     "name": "stdout",
     "output_type": "stream",
     "text": [
      "      Amount.Requested  Amount.Funded.By.Investors Interest.Rate Loan.Length  \\\n",
      "0              20000.0                    20000.00         8.90%   36 months   \n",
      "1              19200.0                    19200.00        12.12%   36 months   \n",
      "2              35000.0                    35000.00        21.98%   60 months   \n",
      "3              10000.0                     9975.00         9.99%   36 months   \n",
      "4              12000.0                    12000.00        11.71%   36 months   \n",
      "...                ...                         ...           ...         ...   \n",
      "2495           30000.0                    29950.00        16.77%   60 months   \n",
      "2496           16000.0                    16000.00        14.09%   60 months   \n",
      "2497           10000.0                    10000.00        13.99%   36 months   \n",
      "2498            6000.0                     6000.00        12.42%   36 months   \n",
      "2499            9000.0                     5242.75        13.79%   36 months   \n",
      "\n",
      "            Loan.Purpose Debt.To.Income.Ratio State Home.Ownership  \\\n",
      "0     debt_consolidation               14.90%    SC       MORTGAGE   \n",
      "1     debt_consolidation               28.36%    TX       MORTGAGE   \n",
      "2     debt_consolidation               23.81%    CA       MORTGAGE   \n",
      "3     debt_consolidation               14.30%    KS       MORTGAGE   \n",
      "4            credit_card               18.78%    NJ           RENT   \n",
      "...                  ...                  ...   ...            ...   \n",
      "2495  debt_consolidation               19.23%    NY       MORTGAGE   \n",
      "2496    home_improvement               21.54%    MD            OWN   \n",
      "2497  debt_consolidation                4.89%    PA       MORTGAGE   \n",
      "2498      major_purchase               16.66%    NJ           RENT   \n",
      "2499  debt_consolidation                6.76%    NY           RENT   \n",
      "\n",
      "      Monthly.Income FICO.Range  Open.CREDIT.Lines  Revolving.CREDIT.Balance  \\\n",
      "0            6541.67    735-739               14.0                   14272.0   \n",
      "1            4583.33    715-719               12.0                   11140.0   \n",
      "2           11500.00    690-694               14.0                   21977.0   \n",
      "3            3833.33    695-699               10.0                    9346.0   \n",
      "4            3195.00    695-699               11.0                   14469.0   \n",
      "...              ...        ...                ...                       ...   \n",
      "2495         9250.00    705-709               15.0                   45880.0   \n",
      "2496         8903.25    740-744               18.0                   18898.0   \n",
      "2497         2166.67    680-684                4.0                    4544.0   \n",
      "2498         3500.00    675-679                8.0                    7753.0   \n",
      "2499         3875.00    670-674                7.0                    7589.0   \n",
      "\n",
      "      Inquiries.in.the.Last.6.Months Employment.Length  \n",
      "0                                2.0          < 1 year  \n",
      "1                                1.0           2 years  \n",
      "2                                1.0           2 years  \n",
      "3                                0.0           5 years  \n",
      "4                                0.0           9 years  \n",
      "...                              ...               ...  \n",
      "2495                             1.0           8 years  \n",
      "2496                             1.0         10+ years  \n",
      "2497                             0.0         10+ years  \n",
      "2498                             0.0           5 years  \n",
      "2499                             0.0         10+ years  \n",
      "\n",
      "[2500 rows x 14 columns]\n"
     ]
    }
   ],
   "source": [
    "loandata = pd.read_csv('F:\\Analytix_Labs\\Python for data science\\Case_Study\\Basic Statistics - Hypothesis Testing\\LoansData.csv')\n",
    "print(loandata)"
   ]
  },
  {
   "cell_type": "code",
   "execution_count": 2,
   "id": "056289c3",
   "metadata": {},
   "outputs": [
    {
     "name": "stdout",
     "output_type": "stream",
     "text": [
      "     _rowstate_                    Movie  Gender Marital_Status  Sinage  \\\n",
      "0             0  Ferris Buellers Day Off  Female        Married     2.0   \n",
      "1             0  Ferris Buellers Day Off  Female         Single     1.0   \n",
      "2             0  Ferris Buellers Day Off    Male        Married     2.0   \n",
      "3             0  Ferris Buellers Day Off  Female        Married     1.0   \n",
      "4             0  Ferris Buellers Day Off  Female        Married     1.0   \n",
      "..          ...                      ...     ...            ...     ...   \n",
      "325           0               Old School       2              2     1.0   \n",
      "326           0               Old School       1              1     2.0   \n",
      "327           0               Old School       2              1     2.0   \n",
      "328           0               Old School       1              1     1.0   \n",
      "329           0               Old School       2              2     2.0   \n",
      "\n",
      "     Parking  Clean  Overall  Age  Income Hear_About  \n",
      "0        2.0    2.0      2.0  3.0     1.0          5  \n",
      "1        1.0    1.0      1.0  2.0     1.0          5  \n",
      "2        4.0    3.0      2.0  4.0     1.0          5  \n",
      "3        3.0    2.0      2.0  4.0     1.0          5  \n",
      "4        1.0    1.0      1.0  3.0     3.0          1  \n",
      "..       ...    ...      ...  ...     ...        ...  \n",
      "325      2.0    1.0      1.0  2.0     1.0          1  \n",
      "326      2.0    2.0      2.0  3.0     3.0          5  \n",
      "327      1.0    1.0      2.0  2.0     2.0          5  \n",
      "328      1.0    1.0      1.0  2.0     1.0          3  \n",
      "329      2.0    3.0      1.0  2.0     1.0          5  \n",
      "\n",
      "[330 rows x 11 columns]\n"
     ]
    }
   ],
   "source": [
    "films=pd.read_csv('F:\\Analytix_Labs\\Python for data science\\Case_Study\\Basic Statistics - Hypothesis Testing\\Films.csv')\n",
    "print(films)"
   ]
  },
  {
   "cell_type": "code",
   "execution_count": 4,
   "id": "a0192ad4",
   "metadata": {},
   "outputs": [
    {
     "data": {
      "text/html": [
       "<div>\n",
       "<style scoped>\n",
       "    .dataframe tbody tr th:only-of-type {\n",
       "        vertical-align: middle;\n",
       "    }\n",
       "\n",
       "    .dataframe tbody tr th {\n",
       "        vertical-align: top;\n",
       "    }\n",
       "\n",
       "    .dataframe thead th {\n",
       "        text-align: right;\n",
       "    }\n",
       "</style>\n",
       "<table border=\"1\" class=\"dataframe\">\n",
       "  <thead>\n",
       "    <tr style=\"text-align: right;\">\n",
       "      <th></th>\n",
       "      <th>Order_Number</th>\n",
       "      <th>Barry_Price</th>\n",
       "      <th>Mary_Price</th>\n",
       "    </tr>\n",
       "  </thead>\n",
       "  <tbody>\n",
       "    <tr>\n",
       "      <th>0</th>\n",
       "      <td>1</td>\n",
       "      <td>126</td>\n",
       "      <td>114</td>\n",
       "    </tr>\n",
       "    <tr>\n",
       "      <th>1</th>\n",
       "      <td>2</td>\n",
       "      <td>110</td>\n",
       "      <td>118</td>\n",
       "    </tr>\n",
       "    <tr>\n",
       "      <th>2</th>\n",
       "      <td>3</td>\n",
       "      <td>138</td>\n",
       "      <td>114</td>\n",
       "    </tr>\n",
       "    <tr>\n",
       "      <th>3</th>\n",
       "      <td>4</td>\n",
       "      <td>142</td>\n",
       "      <td>111</td>\n",
       "    </tr>\n",
       "    <tr>\n",
       "      <th>4</th>\n",
       "      <td>5</td>\n",
       "      <td>146</td>\n",
       "      <td>129</td>\n",
       "    </tr>\n",
       "    <tr>\n",
       "      <th>5</th>\n",
       "      <td>6</td>\n",
       "      <td>136</td>\n",
       "      <td>119</td>\n",
       "    </tr>\n",
       "    <tr>\n",
       "      <th>6</th>\n",
       "      <td>7</td>\n",
       "      <td>94</td>\n",
       "      <td>97</td>\n",
       "    </tr>\n",
       "    <tr>\n",
       "      <th>7</th>\n",
       "      <td>8</td>\n",
       "      <td>103</td>\n",
       "      <td>104</td>\n",
       "    </tr>\n",
       "    <tr>\n",
       "      <th>8</th>\n",
       "      <td>9</td>\n",
       "      <td>140</td>\n",
       "      <td>127</td>\n",
       "    </tr>\n",
       "    <tr>\n",
       "      <th>9</th>\n",
       "      <td>10</td>\n",
       "      <td>152</td>\n",
       "      <td>133</td>\n",
       "    </tr>\n",
       "    <tr>\n",
       "      <th>10</th>\n",
       "      <td>11</td>\n",
       "      <td>108</td>\n",
       "      <td>103</td>\n",
       "    </tr>\n",
       "    <tr>\n",
       "      <th>11</th>\n",
       "      <td>12</td>\n",
       "      <td>97</td>\n",
       "      <td>108</td>\n",
       "    </tr>\n",
       "  </tbody>\n",
       "</table>\n",
       "</div>"
      ],
      "text/plain": [
       "    Order_Number  Barry_Price  Mary_Price\n",
       "0              1          126         114\n",
       "1              2          110         118\n",
       "2              3          138         114\n",
       "3              4          142         111\n",
       "4              5          146         129\n",
       "5              6          136         119\n",
       "6              7           94          97\n",
       "7              8          103         104\n",
       "8              9          140         127\n",
       "9             10          152         133\n",
       "10            11          108         103\n",
       "11            12           97         108"
      ]
     },
     "execution_count": 4,
     "metadata": {},
     "output_type": "execute_result"
    }
   ],
   "source": [
    "price_quotes=pd.read_csv('F:\\Analytix_Labs\\Python for data science\\Case_Study\\Basic Statistics - Hypothesis Testing\\Price_Quotes.csv')\n",
    "price_quotes"
   ]
  },
  {
   "cell_type": "code",
   "execution_count": 5,
   "id": "3891ad89",
   "metadata": {},
   "outputs": [
    {
     "name": "stdout",
     "output_type": "stream",
     "text": [
      "     Days Priority\n",
      "0     3.3     High\n",
      "1     7.9   Medium\n",
      "2     0.3     High\n",
      "3     0.7   Medium\n",
      "4     8.6   Medium\n",
      "..    ...      ...\n",
      "637   2.5      Low\n",
      "638   0.3     High\n",
      "639   0.3   Medium\n",
      "640   1.3   Medium\n",
      "641   0.5     High\n",
      "\n",
      "[642 rows x 2 columns]\n"
     ]
    }
   ],
   "source": [
    "Priority_Assessment= pd.read_csv('F:\\Analytix_Labs\\Python for data science\\Case_Study\\Basic Statistics - Hypothesis Testing\\Priority_Assessment.csv')\n",
    "print(Priority_Assessment)"
   ]
  },
  {
   "cell_type": "code",
   "execution_count": 6,
   "id": "a06093a9",
   "metadata": {},
   "outputs": [
    {
     "name": "stdout",
     "output_type": "stream",
     "text": [
      "    Month Reengineer  Employee_Turnover       VAR4        VAR5\n",
      "0       1      Prior             0.0000  24.390244   42.682927\n",
      "1       2      Prior             6.0606  19.354839   25.806452\n",
      "2       3      Prior            12.1212  35.087719  146.198830\n",
      "3       4      Prior             3.3333  18.404908  110.429448\n",
      "4       5      Prior            12.9032  17.964072   23.952096\n",
      "5       6      Prior             9.6774  41.176471   47.058824\n",
      "6       7      Prior            11.7647  13.422819    0.000000\n",
      "7       8      Prior            11.4286  31.250000   25.000000\n",
      "8       9      Prior            23.0769  17.241379  132.183908\n",
      "9      10      Prior            15.0000  16.574586   16.574586\n",
      "10     11      Prior            10.0000   5.917160   88.757396\n",
      "11     12      Prior            26.0870  21.164021   31.746032\n",
      "12     13      Prior            11.1111   5.076142   10.152284\n",
      "13     14       Post            26.6667   9.708738   29.126214\n",
      "14     15       Post            17.9487   4.201681   21.008403\n",
      "15     16       Post            12.8205  13.043478   34.782609\n",
      "16     17       Post            15.7895   9.950249   19.900498\n",
      "17     18       Post             0.0000   9.950249    9.950249\n",
      "18     19       Post            30.7692   8.510638   25.531915\n",
      "19     20       Post            26.8293   9.259259   23.148148\n"
     ]
    }
   ],
   "source": [
    "Treatment_Facility=pd.read_csv('F:\\Analytix_Labs\\Python for data science\\Case_Study\\Basic Statistics - Hypothesis Testing\\Treatment_Facility.csv')\n",
    "print(Treatment_Facility)"
   ]
  },
  {
   "cell_type": "markdown",
   "id": "80e4b51f",
   "metadata": {},
   "source": [
    "### BUSINESS PROBLEM-1: "
   ]
  },
  {
   "cell_type": "code",
   "execution_count": 7,
   "id": "fc0016ac",
   "metadata": {
    "scrolled": true
   },
   "outputs": [
    {
     "name": "stdout",
     "output_type": "stream",
     "text": [
      "<class 'pandas.core.frame.DataFrame'>\n",
      "RangeIndex: 2500 entries, 0 to 2499\n",
      "Data columns (total 14 columns):\n",
      " #   Column                          Non-Null Count  Dtype  \n",
      "---  ------                          --------------  -----  \n",
      " 0   Amount.Requested                2499 non-null   float64\n",
      " 1   Amount.Funded.By.Investors      2499 non-null   float64\n",
      " 2   Interest.Rate                   2498 non-null   object \n",
      " 3   Loan.Length                     2500 non-null   object \n",
      " 4   Loan.Purpose                    2500 non-null   object \n",
      " 5   Debt.To.Income.Ratio            2499 non-null   object \n",
      " 6   State                           2500 non-null   object \n",
      " 7   Home.Ownership                  2499 non-null   object \n",
      " 8   Monthly.Income                  2499 non-null   float64\n",
      " 9   FICO.Range                      2498 non-null   object \n",
      " 10  Open.CREDIT.Lines               2497 non-null   float64\n",
      " 11  Revolving.CREDIT.Balance        2497 non-null   float64\n",
      " 12  Inquiries.in.the.Last.6.Months  2497 non-null   float64\n",
      " 13  Employment.Length               2423 non-null   object \n",
      "dtypes: float64(6), object(8)\n",
      "memory usage: 273.6+ KB\n"
     ]
    }
   ],
   "source": [
    "loandata.info()"
   ]
  },
  {
   "cell_type": "code",
   "execution_count": 8,
   "id": "4f9d06ee",
   "metadata": {},
   "outputs": [],
   "source": [
    "##a. Intrest rate is varied for different loan amounts (Less intrest charged for high loan\n",
    "##amounts)"
   ]
  },
  {
   "cell_type": "code",
   "execution_count": 9,
   "id": "ce203482",
   "metadata": {},
   "outputs": [
    {
     "data": {
      "text/html": [
       "<div>\n",
       "<style scoped>\n",
       "    .dataframe tbody tr th:only-of-type {\n",
       "        vertical-align: middle;\n",
       "    }\n",
       "\n",
       "    .dataframe tbody tr th {\n",
       "        vertical-align: top;\n",
       "    }\n",
       "\n",
       "    .dataframe thead th {\n",
       "        text-align: right;\n",
       "    }\n",
       "</style>\n",
       "<table border=\"1\" class=\"dataframe\">\n",
       "  <thead>\n",
       "    <tr style=\"text-align: right;\">\n",
       "      <th></th>\n",
       "      <th>Amount.Requested</th>\n",
       "      <th>Amount.Funded.By.Investors</th>\n",
       "      <th>Interest.Rate</th>\n",
       "      <th>Loan.Length</th>\n",
       "      <th>Loan.Purpose</th>\n",
       "      <th>Debt.To.Income.Ratio</th>\n",
       "      <th>State</th>\n",
       "      <th>Home.Ownership</th>\n",
       "      <th>Monthly.Income</th>\n",
       "      <th>FICO.Range</th>\n",
       "      <th>Open.CREDIT.Lines</th>\n",
       "      <th>Revolving.CREDIT.Balance</th>\n",
       "      <th>Inquiries.in.the.Last.6.Months</th>\n",
       "      <th>Employment.Length</th>\n",
       "    </tr>\n",
       "  </thead>\n",
       "  <tbody>\n",
       "    <tr>\n",
       "      <th>0</th>\n",
       "      <td>20000.0</td>\n",
       "      <td>20000.0</td>\n",
       "      <td>8.90%</td>\n",
       "      <td>36 months</td>\n",
       "      <td>debt_consolidation</td>\n",
       "      <td>14.90%</td>\n",
       "      <td>SC</td>\n",
       "      <td>MORTGAGE</td>\n",
       "      <td>6541.67</td>\n",
       "      <td>735-739</td>\n",
       "      <td>14.0</td>\n",
       "      <td>14272.0</td>\n",
       "      <td>2.0</td>\n",
       "      <td>&lt; 1 year</td>\n",
       "    </tr>\n",
       "    <tr>\n",
       "      <th>1</th>\n",
       "      <td>19200.0</td>\n",
       "      <td>19200.0</td>\n",
       "      <td>12.12%</td>\n",
       "      <td>36 months</td>\n",
       "      <td>debt_consolidation</td>\n",
       "      <td>28.36%</td>\n",
       "      <td>TX</td>\n",
       "      <td>MORTGAGE</td>\n",
       "      <td>4583.33</td>\n",
       "      <td>715-719</td>\n",
       "      <td>12.0</td>\n",
       "      <td>11140.0</td>\n",
       "      <td>1.0</td>\n",
       "      <td>2 years</td>\n",
       "    </tr>\n",
       "    <tr>\n",
       "      <th>2</th>\n",
       "      <td>35000.0</td>\n",
       "      <td>35000.0</td>\n",
       "      <td>21.98%</td>\n",
       "      <td>60 months</td>\n",
       "      <td>debt_consolidation</td>\n",
       "      <td>23.81%</td>\n",
       "      <td>CA</td>\n",
       "      <td>MORTGAGE</td>\n",
       "      <td>11500.00</td>\n",
       "      <td>690-694</td>\n",
       "      <td>14.0</td>\n",
       "      <td>21977.0</td>\n",
       "      <td>1.0</td>\n",
       "      <td>2 years</td>\n",
       "    </tr>\n",
       "    <tr>\n",
       "      <th>3</th>\n",
       "      <td>10000.0</td>\n",
       "      <td>9975.0</td>\n",
       "      <td>9.99%</td>\n",
       "      <td>36 months</td>\n",
       "      <td>debt_consolidation</td>\n",
       "      <td>14.30%</td>\n",
       "      <td>KS</td>\n",
       "      <td>MORTGAGE</td>\n",
       "      <td>3833.33</td>\n",
       "      <td>695-699</td>\n",
       "      <td>10.0</td>\n",
       "      <td>9346.0</td>\n",
       "      <td>0.0</td>\n",
       "      <td>5 years</td>\n",
       "    </tr>\n",
       "    <tr>\n",
       "      <th>4</th>\n",
       "      <td>12000.0</td>\n",
       "      <td>12000.0</td>\n",
       "      <td>11.71%</td>\n",
       "      <td>36 months</td>\n",
       "      <td>credit_card</td>\n",
       "      <td>18.78%</td>\n",
       "      <td>NJ</td>\n",
       "      <td>RENT</td>\n",
       "      <td>3195.00</td>\n",
       "      <td>695-699</td>\n",
       "      <td>11.0</td>\n",
       "      <td>14469.0</td>\n",
       "      <td>0.0</td>\n",
       "      <td>9 years</td>\n",
       "    </tr>\n",
       "  </tbody>\n",
       "</table>\n",
       "</div>"
      ],
      "text/plain": [
       "   Amount.Requested  Amount.Funded.By.Investors Interest.Rate Loan.Length  \\\n",
       "0           20000.0                     20000.0         8.90%   36 months   \n",
       "1           19200.0                     19200.0        12.12%   36 months   \n",
       "2           35000.0                     35000.0        21.98%   60 months   \n",
       "3           10000.0                      9975.0         9.99%   36 months   \n",
       "4           12000.0                     12000.0        11.71%   36 months   \n",
       "\n",
       "         Loan.Purpose Debt.To.Income.Ratio State Home.Ownership  \\\n",
       "0  debt_consolidation               14.90%    SC       MORTGAGE   \n",
       "1  debt_consolidation               28.36%    TX       MORTGAGE   \n",
       "2  debt_consolidation               23.81%    CA       MORTGAGE   \n",
       "3  debt_consolidation               14.30%    KS       MORTGAGE   \n",
       "4         credit_card               18.78%    NJ           RENT   \n",
       "\n",
       "   Monthly.Income FICO.Range  Open.CREDIT.Lines  Revolving.CREDIT.Balance  \\\n",
       "0         6541.67    735-739               14.0                   14272.0   \n",
       "1         4583.33    715-719               12.0                   11140.0   \n",
       "2        11500.00    690-694               14.0                   21977.0   \n",
       "3         3833.33    695-699               10.0                    9346.0   \n",
       "4         3195.00    695-699               11.0                   14469.0   \n",
       "\n",
       "   Inquiries.in.the.Last.6.Months Employment.Length  \n",
       "0                             2.0          < 1 year  \n",
       "1                             1.0           2 years  \n",
       "2                             1.0           2 years  \n",
       "3                             0.0           5 years  \n",
       "4                             0.0           9 years  "
      ]
     },
     "execution_count": 9,
     "metadata": {},
     "output_type": "execute_result"
    }
   ],
   "source": [
    "loandata.head()"
   ]
  },
  {
   "cell_type": "code",
   "execution_count": 10,
   "id": "31dab15b",
   "metadata": {},
   "outputs": [
    {
     "ename": "SyntaxError",
     "evalue": "invalid syntax (<ipython-input-10-aeaef160559b>, line 1)",
     "output_type": "error",
     "traceback": [
      "\u001b[1;36m  File \u001b[1;32m\"<ipython-input-10-aeaef160559b>\"\u001b[1;36m, line \u001b[1;32m1\u001b[0m\n\u001b[1;33m    H0 - Intrest rate is not varied\u001b[0m\n\u001b[1;37m                 ^\u001b[0m\n\u001b[1;31mSyntaxError\u001b[0m\u001b[1;31m:\u001b[0m invalid syntax\n"
     ]
    }
   ],
   "source": [
    "H0 - Intrest rate is not varied\n",
    "Ha - Intrest rate is varied\n",
    "\n",
    "CI - 95%\n",
    "p - 0.05"
   ]
  },
  {
   "cell_type": "code",
   "execution_count": 10,
   "id": "b4356b06",
   "metadata": {},
   "outputs": [],
   "source": [
    "loandata.rename(columns = {'Amount.Requested':'Amount_Requested','Amount.Funded.By.Investors':'Amount_Funded_By_Investors',\n",
    "'Interest.Rate':'Interest_Rate','Loan.Length':'Loan_Length','Loan.Purpose':'Loan_Purpose','Debt.To.Income.Ratio':'Debt_To_Income_Ratio',\n",
    "'Home.Ownership':'Home_Ownership','Monthly.Income':'Monthly_Income','FICO.Range':'FICO_Range','Open.CREDIT.Lines':'Open_CREDIT_Lines',\n",
    "'Revolving.CREDIT.Balance':'Revolving_CREDIT_Balance','Inquiries.in.the.Last.6.Months':'Inquiries_in_the_Last_6_Months',\n",
    "'Employment.Length':'Employment_Length'},inplace = True)"
   ]
  },
  {
   "cell_type": "code",
   "execution_count": 11,
   "id": "e36620d0",
   "metadata": {},
   "outputs": [
    {
     "data": {
      "text/html": [
       "<div>\n",
       "<style scoped>\n",
       "    .dataframe tbody tr th:only-of-type {\n",
       "        vertical-align: middle;\n",
       "    }\n",
       "\n",
       "    .dataframe tbody tr th {\n",
       "        vertical-align: top;\n",
       "    }\n",
       "\n",
       "    .dataframe thead th {\n",
       "        text-align: right;\n",
       "    }\n",
       "</style>\n",
       "<table border=\"1\" class=\"dataframe\">\n",
       "  <thead>\n",
       "    <tr style=\"text-align: right;\">\n",
       "      <th></th>\n",
       "      <th>Amount_Requested</th>\n",
       "      <th>Amount_Funded_By_Investors</th>\n",
       "      <th>Interest_Rate</th>\n",
       "      <th>Loan_Length</th>\n",
       "      <th>Loan_Purpose</th>\n",
       "      <th>Debt_To_Income_Ratio</th>\n",
       "      <th>State</th>\n",
       "      <th>Home_Ownership</th>\n",
       "      <th>Monthly_Income</th>\n",
       "      <th>FICO_Range</th>\n",
       "      <th>Open_CREDIT_Lines</th>\n",
       "      <th>Revolving_CREDIT_Balance</th>\n",
       "      <th>Inquiries_in_the_Last_6_Months</th>\n",
       "      <th>Employment_Length</th>\n",
       "    </tr>\n",
       "  </thead>\n",
       "  <tbody>\n",
       "    <tr>\n",
       "      <th>0</th>\n",
       "      <td>20000.0</td>\n",
       "      <td>20000.0</td>\n",
       "      <td>8.90%</td>\n",
       "      <td>36 months</td>\n",
       "      <td>debt_consolidation</td>\n",
       "      <td>14.90%</td>\n",
       "      <td>SC</td>\n",
       "      <td>MORTGAGE</td>\n",
       "      <td>6541.67</td>\n",
       "      <td>735-739</td>\n",
       "      <td>14.0</td>\n",
       "      <td>14272.0</td>\n",
       "      <td>2.0</td>\n",
       "      <td>&lt; 1 year</td>\n",
       "    </tr>\n",
       "    <tr>\n",
       "      <th>1</th>\n",
       "      <td>19200.0</td>\n",
       "      <td>19200.0</td>\n",
       "      <td>12.12%</td>\n",
       "      <td>36 months</td>\n",
       "      <td>debt_consolidation</td>\n",
       "      <td>28.36%</td>\n",
       "      <td>TX</td>\n",
       "      <td>MORTGAGE</td>\n",
       "      <td>4583.33</td>\n",
       "      <td>715-719</td>\n",
       "      <td>12.0</td>\n",
       "      <td>11140.0</td>\n",
       "      <td>1.0</td>\n",
       "      <td>2 years</td>\n",
       "    </tr>\n",
       "    <tr>\n",
       "      <th>2</th>\n",
       "      <td>35000.0</td>\n",
       "      <td>35000.0</td>\n",
       "      <td>21.98%</td>\n",
       "      <td>60 months</td>\n",
       "      <td>debt_consolidation</td>\n",
       "      <td>23.81%</td>\n",
       "      <td>CA</td>\n",
       "      <td>MORTGAGE</td>\n",
       "      <td>11500.00</td>\n",
       "      <td>690-694</td>\n",
       "      <td>14.0</td>\n",
       "      <td>21977.0</td>\n",
       "      <td>1.0</td>\n",
       "      <td>2 years</td>\n",
       "    </tr>\n",
       "    <tr>\n",
       "      <th>3</th>\n",
       "      <td>10000.0</td>\n",
       "      <td>9975.0</td>\n",
       "      <td>9.99%</td>\n",
       "      <td>36 months</td>\n",
       "      <td>debt_consolidation</td>\n",
       "      <td>14.30%</td>\n",
       "      <td>KS</td>\n",
       "      <td>MORTGAGE</td>\n",
       "      <td>3833.33</td>\n",
       "      <td>695-699</td>\n",
       "      <td>10.0</td>\n",
       "      <td>9346.0</td>\n",
       "      <td>0.0</td>\n",
       "      <td>5 years</td>\n",
       "    </tr>\n",
       "    <tr>\n",
       "      <th>4</th>\n",
       "      <td>12000.0</td>\n",
       "      <td>12000.0</td>\n",
       "      <td>11.71%</td>\n",
       "      <td>36 months</td>\n",
       "      <td>credit_card</td>\n",
       "      <td>18.78%</td>\n",
       "      <td>NJ</td>\n",
       "      <td>RENT</td>\n",
       "      <td>3195.00</td>\n",
       "      <td>695-699</td>\n",
       "      <td>11.0</td>\n",
       "      <td>14469.0</td>\n",
       "      <td>0.0</td>\n",
       "      <td>9 years</td>\n",
       "    </tr>\n",
       "  </tbody>\n",
       "</table>\n",
       "</div>"
      ],
      "text/plain": [
       "   Amount_Requested  Amount_Funded_By_Investors Interest_Rate Loan_Length  \\\n",
       "0           20000.0                     20000.0         8.90%   36 months   \n",
       "1           19200.0                     19200.0        12.12%   36 months   \n",
       "2           35000.0                     35000.0        21.98%   60 months   \n",
       "3           10000.0                      9975.0         9.99%   36 months   \n",
       "4           12000.0                     12000.0        11.71%   36 months   \n",
       "\n",
       "         Loan_Purpose Debt_To_Income_Ratio State Home_Ownership  \\\n",
       "0  debt_consolidation               14.90%    SC       MORTGAGE   \n",
       "1  debt_consolidation               28.36%    TX       MORTGAGE   \n",
       "2  debt_consolidation               23.81%    CA       MORTGAGE   \n",
       "3  debt_consolidation               14.30%    KS       MORTGAGE   \n",
       "4         credit_card               18.78%    NJ           RENT   \n",
       "\n",
       "   Monthly_Income FICO_Range  Open_CREDIT_Lines  Revolving_CREDIT_Balance  \\\n",
       "0         6541.67    735-739               14.0                   14272.0   \n",
       "1         4583.33    715-719               12.0                   11140.0   \n",
       "2        11500.00    690-694               14.0                   21977.0   \n",
       "3         3833.33    695-699               10.0                    9346.0   \n",
       "4         3195.00    695-699               11.0                   14469.0   \n",
       "\n",
       "   Inquiries_in_the_Last_6_Months Employment_Length  \n",
       "0                             2.0          < 1 year  \n",
       "1                             1.0           2 years  \n",
       "2                             1.0           2 years  \n",
       "3                             0.0           5 years  \n",
       "4                             0.0           9 years  "
      ]
     },
     "execution_count": 11,
     "metadata": {},
     "output_type": "execute_result"
    }
   ],
   "source": [
    "loandata.head()"
   ]
  },
  {
   "cell_type": "code",
   "execution_count": 12,
   "id": "be7faf64",
   "metadata": {},
   "outputs": [
    {
     "data": {
      "text/plain": [
       "Amount_Requested                  float64\n",
       "Amount_Funded_By_Investors        float64\n",
       "Interest_Rate                      object\n",
       "Loan_Length                        object\n",
       "Loan_Purpose                       object\n",
       "Debt_To_Income_Ratio               object\n",
       "State                              object\n",
       "Home_Ownership                     object\n",
       "Monthly_Income                    float64\n",
       "FICO_Range                         object\n",
       "Open_CREDIT_Lines                 float64\n",
       "Revolving_CREDIT_Balance          float64\n",
       "Inquiries_in_the_Last_6_Months    float64\n",
       "Employment_Length                  object\n",
       "dtype: object"
      ]
     },
     "execution_count": 12,
     "metadata": {},
     "output_type": "execute_result"
    }
   ],
   "source": [
    "loandata.dtypes"
   ]
  },
  {
   "cell_type": "code",
   "execution_count": 13,
   "id": "8fe1c1e2",
   "metadata": {},
   "outputs": [
    {
     "data": {
      "text/plain": [
       "Amount_Requested                   1\n",
       "Amount_Funded_By_Investors         1\n",
       "Interest_Rate                      2\n",
       "Loan_Length                        0\n",
       "Loan_Purpose                       0\n",
       "Debt_To_Income_Ratio               1\n",
       "State                              0\n",
       "Home_Ownership                     1\n",
       "Monthly_Income                     1\n",
       "FICO_Range                         2\n",
       "Open_CREDIT_Lines                  3\n",
       "Revolving_CREDIT_Balance           3\n",
       "Inquiries_in_the_Last_6_Months     3\n",
       "Employment_Length                 77\n",
       "dtype: int64"
      ]
     },
     "execution_count": 13,
     "metadata": {},
     "output_type": "execute_result"
    }
   ],
   "source": [
    "loandata.isnull().sum()"
   ]
  },
  {
   "cell_type": "code",
   "execution_count": 14,
   "id": "239f0ff6",
   "metadata": {},
   "outputs": [],
   "source": [
    "loandata=loandata.dropna(axis = 0, how ='any')"
   ]
  },
  {
   "cell_type": "code",
   "execution_count": 15,
   "id": "ff5bccdc",
   "metadata": {},
   "outputs": [],
   "source": [
    "loandata['Amount_Requested'] = loandata['Amount_Requested'].astype(int)"
   ]
  },
  {
   "cell_type": "code",
   "execution_count": 16,
   "id": "099da3de",
   "metadata": {},
   "outputs": [],
   "source": [
    "loandata['Interest_Rate'] = loandata['Interest_Rate'].str.replace('%','')"
   ]
  },
  {
   "cell_type": "code",
   "execution_count": 17,
   "id": "1777cf1f",
   "metadata": {},
   "outputs": [
    {
     "data": {
      "text/html": [
       "<div>\n",
       "<style scoped>\n",
       "    .dataframe tbody tr th:only-of-type {\n",
       "        vertical-align: middle;\n",
       "    }\n",
       "\n",
       "    .dataframe tbody tr th {\n",
       "        vertical-align: top;\n",
       "    }\n",
       "\n",
       "    .dataframe thead th {\n",
       "        text-align: right;\n",
       "    }\n",
       "</style>\n",
       "<table border=\"1\" class=\"dataframe\">\n",
       "  <thead>\n",
       "    <tr style=\"text-align: right;\">\n",
       "      <th></th>\n",
       "      <th>Amount_Requested</th>\n",
       "      <th>Amount_Funded_By_Investors</th>\n",
       "      <th>Interest_Rate</th>\n",
       "      <th>Loan_Length</th>\n",
       "      <th>Loan_Purpose</th>\n",
       "      <th>Debt_To_Income_Ratio</th>\n",
       "      <th>State</th>\n",
       "      <th>Home_Ownership</th>\n",
       "      <th>Monthly_Income</th>\n",
       "      <th>FICO_Range</th>\n",
       "      <th>Open_CREDIT_Lines</th>\n",
       "      <th>Revolving_CREDIT_Balance</th>\n",
       "      <th>Inquiries_in_the_Last_6_Months</th>\n",
       "      <th>Employment_Length</th>\n",
       "    </tr>\n",
       "  </thead>\n",
       "  <tbody>\n",
       "    <tr>\n",
       "      <th>0</th>\n",
       "      <td>20000</td>\n",
       "      <td>20000.0</td>\n",
       "      <td>8.90</td>\n",
       "      <td>36 months</td>\n",
       "      <td>debt_consolidation</td>\n",
       "      <td>14.90%</td>\n",
       "      <td>SC</td>\n",
       "      <td>MORTGAGE</td>\n",
       "      <td>6541.67</td>\n",
       "      <td>735-739</td>\n",
       "      <td>14.0</td>\n",
       "      <td>14272.0</td>\n",
       "      <td>2.0</td>\n",
       "      <td>&lt; 1 year</td>\n",
       "    </tr>\n",
       "    <tr>\n",
       "      <th>1</th>\n",
       "      <td>19200</td>\n",
       "      <td>19200.0</td>\n",
       "      <td>12.12</td>\n",
       "      <td>36 months</td>\n",
       "      <td>debt_consolidation</td>\n",
       "      <td>28.36%</td>\n",
       "      <td>TX</td>\n",
       "      <td>MORTGAGE</td>\n",
       "      <td>4583.33</td>\n",
       "      <td>715-719</td>\n",
       "      <td>12.0</td>\n",
       "      <td>11140.0</td>\n",
       "      <td>1.0</td>\n",
       "      <td>2 years</td>\n",
       "    </tr>\n",
       "    <tr>\n",
       "      <th>2</th>\n",
       "      <td>35000</td>\n",
       "      <td>35000.0</td>\n",
       "      <td>21.98</td>\n",
       "      <td>60 months</td>\n",
       "      <td>debt_consolidation</td>\n",
       "      <td>23.81%</td>\n",
       "      <td>CA</td>\n",
       "      <td>MORTGAGE</td>\n",
       "      <td>11500.00</td>\n",
       "      <td>690-694</td>\n",
       "      <td>14.0</td>\n",
       "      <td>21977.0</td>\n",
       "      <td>1.0</td>\n",
       "      <td>2 years</td>\n",
       "    </tr>\n",
       "    <tr>\n",
       "      <th>3</th>\n",
       "      <td>10000</td>\n",
       "      <td>9975.0</td>\n",
       "      <td>9.99</td>\n",
       "      <td>36 months</td>\n",
       "      <td>debt_consolidation</td>\n",
       "      <td>14.30%</td>\n",
       "      <td>KS</td>\n",
       "      <td>MORTGAGE</td>\n",
       "      <td>3833.33</td>\n",
       "      <td>695-699</td>\n",
       "      <td>10.0</td>\n",
       "      <td>9346.0</td>\n",
       "      <td>0.0</td>\n",
       "      <td>5 years</td>\n",
       "    </tr>\n",
       "    <tr>\n",
       "      <th>4</th>\n",
       "      <td>12000</td>\n",
       "      <td>12000.0</td>\n",
       "      <td>11.71</td>\n",
       "      <td>36 months</td>\n",
       "      <td>credit_card</td>\n",
       "      <td>18.78%</td>\n",
       "      <td>NJ</td>\n",
       "      <td>RENT</td>\n",
       "      <td>3195.00</td>\n",
       "      <td>695-699</td>\n",
       "      <td>11.0</td>\n",
       "      <td>14469.0</td>\n",
       "      <td>0.0</td>\n",
       "      <td>9 years</td>\n",
       "    </tr>\n",
       "  </tbody>\n",
       "</table>\n",
       "</div>"
      ],
      "text/plain": [
       "   Amount_Requested  Amount_Funded_By_Investors Interest_Rate Loan_Length  \\\n",
       "0             20000                     20000.0          8.90   36 months   \n",
       "1             19200                     19200.0         12.12   36 months   \n",
       "2             35000                     35000.0         21.98   60 months   \n",
       "3             10000                      9975.0          9.99   36 months   \n",
       "4             12000                     12000.0         11.71   36 months   \n",
       "\n",
       "         Loan_Purpose Debt_To_Income_Ratio State Home_Ownership  \\\n",
       "0  debt_consolidation               14.90%    SC       MORTGAGE   \n",
       "1  debt_consolidation               28.36%    TX       MORTGAGE   \n",
       "2  debt_consolidation               23.81%    CA       MORTGAGE   \n",
       "3  debt_consolidation               14.30%    KS       MORTGAGE   \n",
       "4         credit_card               18.78%    NJ           RENT   \n",
       "\n",
       "   Monthly_Income FICO_Range  Open_CREDIT_Lines  Revolving_CREDIT_Balance  \\\n",
       "0         6541.67    735-739               14.0                   14272.0   \n",
       "1         4583.33    715-719               12.0                   11140.0   \n",
       "2        11500.00    690-694               14.0                   21977.0   \n",
       "3         3833.33    695-699               10.0                    9346.0   \n",
       "4         3195.00    695-699               11.0                   14469.0   \n",
       "\n",
       "   Inquiries_in_the_Last_6_Months Employment_Length  \n",
       "0                             2.0          < 1 year  \n",
       "1                             1.0           2 years  \n",
       "2                             1.0           2 years  \n",
       "3                             0.0           5 years  \n",
       "4                             0.0           9 years  "
      ]
     },
     "execution_count": 17,
     "metadata": {},
     "output_type": "execute_result"
    }
   ],
   "source": [
    "loandata.head()"
   ]
  },
  {
   "cell_type": "code",
   "execution_count": 18,
   "id": "af7e7867",
   "metadata": {},
   "outputs": [
    {
     "data": {
      "text/plain": [
       "Amount_Requested                    int32\n",
       "Amount_Funded_By_Investors        float64\n",
       "Interest_Rate                      object\n",
       "Loan_Length                        object\n",
       "Loan_Purpose                       object\n",
       "Debt_To_Income_Ratio               object\n",
       "State                              object\n",
       "Home_Ownership                     object\n",
       "Monthly_Income                    float64\n",
       "FICO_Range                         object\n",
       "Open_CREDIT_Lines                 float64\n",
       "Revolving_CREDIT_Balance          float64\n",
       "Inquiries_in_the_Last_6_Months    float64\n",
       "Employment_Length                  object\n",
       "dtype: object"
      ]
     },
     "execution_count": 18,
     "metadata": {},
     "output_type": "execute_result"
    }
   ],
   "source": [
    "loandata.dtypes"
   ]
  },
  {
   "cell_type": "code",
   "execution_count": 19,
   "id": "da740820",
   "metadata": {},
   "outputs": [],
   "source": [
    "loandata['Interest_Rate'] = loandata['Interest_Rate'].astype(float)"
   ]
  },
  {
   "cell_type": "code",
   "execution_count": 20,
   "id": "2ee66e1a",
   "metadata": {},
   "outputs": [
    {
     "data": {
      "text/plain": [
       "Amount_Requested                    int32\n",
       "Amount_Funded_By_Investors        float64\n",
       "Interest_Rate                     float64\n",
       "Loan_Length                        object\n",
       "Loan_Purpose                       object\n",
       "Debt_To_Income_Ratio               object\n",
       "State                              object\n",
       "Home_Ownership                     object\n",
       "Monthly_Income                    float64\n",
       "FICO_Range                         object\n",
       "Open_CREDIT_Lines                 float64\n",
       "Revolving_CREDIT_Balance          float64\n",
       "Inquiries_in_the_Last_6_Months    float64\n",
       "Employment_Length                  object\n",
       "dtype: object"
      ]
     },
     "execution_count": 20,
     "metadata": {},
     "output_type": "execute_result"
    }
   ],
   "source": [
    "loandata.dtypes"
   ]
  },
  {
   "cell_type": "code",
   "execution_count": 21,
   "id": "a15a528f",
   "metadata": {},
   "outputs": [
    {
     "data": {
      "text/plain": [
       "Amount_Requested                    int32\n",
       "Amount_Funded_By_Investors        float64\n",
       "Interest_Rate                     float64\n",
       "Loan_Length                        object\n",
       "Loan_Purpose                       object\n",
       "Debt_To_Income_Ratio               object\n",
       "State                              object\n",
       "Home_Ownership                     object\n",
       "Monthly_Income                    float64\n",
       "FICO_Range                         object\n",
       "Open_CREDIT_Lines                 float64\n",
       "Revolving_CREDIT_Balance          float64\n",
       "Inquiries_in_the_Last_6_Months    float64\n",
       "Employment_Length                  object\n",
       "dtype: object"
      ]
     },
     "execution_count": 21,
     "metadata": {},
     "output_type": "execute_result"
    }
   ],
   "source": [
    "loandata.dtypes"
   ]
  },
  {
   "cell_type": "code",
   "execution_count": 22,
   "id": "c25cb715",
   "metadata": {},
   "outputs": [
    {
     "data": {
      "text/plain": [
       "Ttest_relResult(statistic=78.76236033975526, pvalue=0.0)"
      ]
     },
     "execution_count": 22,
     "metadata": {},
     "output_type": "execute_result"
    }
   ],
   "source": [
    "stats.ttest_rel(loandata.Amount_Requested,loandata.Interest_Rate)"
   ]
  },
  {
   "cell_type": "code",
   "execution_count": null,
   "id": "e7294362",
   "metadata": {},
   "outputs": [],
   "source": [
    "we reject the null hypothesis, intrest rate is varied"
   ]
  },
  {
   "cell_type": "code",
   "execution_count": null,
   "id": "da150820",
   "metadata": {},
   "outputs": [],
   "source": [
    "#b. Loan length is directly effecting intrest rate."
   ]
  },
  {
   "cell_type": "code",
   "execution_count": 23,
   "id": "03052815",
   "metadata": {},
   "outputs": [
    {
     "data": {
      "text/html": [
       "<div>\n",
       "<style scoped>\n",
       "    .dataframe tbody tr th:only-of-type {\n",
       "        vertical-align: middle;\n",
       "    }\n",
       "\n",
       "    .dataframe tbody tr th {\n",
       "        vertical-align: top;\n",
       "    }\n",
       "\n",
       "    .dataframe thead th {\n",
       "        text-align: right;\n",
       "    }\n",
       "</style>\n",
       "<table border=\"1\" class=\"dataframe\">\n",
       "  <thead>\n",
       "    <tr style=\"text-align: right;\">\n",
       "      <th></th>\n",
       "      <th>Amount_Requested</th>\n",
       "      <th>Amount_Funded_By_Investors</th>\n",
       "      <th>Interest_Rate</th>\n",
       "      <th>Loan_Length</th>\n",
       "      <th>Loan_Purpose</th>\n",
       "      <th>Debt_To_Income_Ratio</th>\n",
       "      <th>State</th>\n",
       "      <th>Home_Ownership</th>\n",
       "      <th>Monthly_Income</th>\n",
       "      <th>FICO_Range</th>\n",
       "      <th>Open_CREDIT_Lines</th>\n",
       "      <th>Revolving_CREDIT_Balance</th>\n",
       "      <th>Inquiries_in_the_Last_6_Months</th>\n",
       "      <th>Employment_Length</th>\n",
       "    </tr>\n",
       "  </thead>\n",
       "  <tbody>\n",
       "    <tr>\n",
       "      <th>0</th>\n",
       "      <td>20000</td>\n",
       "      <td>20000.0</td>\n",
       "      <td>8.90</td>\n",
       "      <td>36 months</td>\n",
       "      <td>debt_consolidation</td>\n",
       "      <td>14.90%</td>\n",
       "      <td>SC</td>\n",
       "      <td>MORTGAGE</td>\n",
       "      <td>6541.67</td>\n",
       "      <td>735-739</td>\n",
       "      <td>14.0</td>\n",
       "      <td>14272.0</td>\n",
       "      <td>2.0</td>\n",
       "      <td>&lt; 1 year</td>\n",
       "    </tr>\n",
       "    <tr>\n",
       "      <th>1</th>\n",
       "      <td>19200</td>\n",
       "      <td>19200.0</td>\n",
       "      <td>12.12</td>\n",
       "      <td>36 months</td>\n",
       "      <td>debt_consolidation</td>\n",
       "      <td>28.36%</td>\n",
       "      <td>TX</td>\n",
       "      <td>MORTGAGE</td>\n",
       "      <td>4583.33</td>\n",
       "      <td>715-719</td>\n",
       "      <td>12.0</td>\n",
       "      <td>11140.0</td>\n",
       "      <td>1.0</td>\n",
       "      <td>2 years</td>\n",
       "    </tr>\n",
       "    <tr>\n",
       "      <th>2</th>\n",
       "      <td>35000</td>\n",
       "      <td>35000.0</td>\n",
       "      <td>21.98</td>\n",
       "      <td>60 months</td>\n",
       "      <td>debt_consolidation</td>\n",
       "      <td>23.81%</td>\n",
       "      <td>CA</td>\n",
       "      <td>MORTGAGE</td>\n",
       "      <td>11500.00</td>\n",
       "      <td>690-694</td>\n",
       "      <td>14.0</td>\n",
       "      <td>21977.0</td>\n",
       "      <td>1.0</td>\n",
       "      <td>2 years</td>\n",
       "    </tr>\n",
       "    <tr>\n",
       "      <th>3</th>\n",
       "      <td>10000</td>\n",
       "      <td>9975.0</td>\n",
       "      <td>9.99</td>\n",
       "      <td>36 months</td>\n",
       "      <td>debt_consolidation</td>\n",
       "      <td>14.30%</td>\n",
       "      <td>KS</td>\n",
       "      <td>MORTGAGE</td>\n",
       "      <td>3833.33</td>\n",
       "      <td>695-699</td>\n",
       "      <td>10.0</td>\n",
       "      <td>9346.0</td>\n",
       "      <td>0.0</td>\n",
       "      <td>5 years</td>\n",
       "    </tr>\n",
       "    <tr>\n",
       "      <th>4</th>\n",
       "      <td>12000</td>\n",
       "      <td>12000.0</td>\n",
       "      <td>11.71</td>\n",
       "      <td>36 months</td>\n",
       "      <td>credit_card</td>\n",
       "      <td>18.78%</td>\n",
       "      <td>NJ</td>\n",
       "      <td>RENT</td>\n",
       "      <td>3195.00</td>\n",
       "      <td>695-699</td>\n",
       "      <td>11.0</td>\n",
       "      <td>14469.0</td>\n",
       "      <td>0.0</td>\n",
       "      <td>9 years</td>\n",
       "    </tr>\n",
       "  </tbody>\n",
       "</table>\n",
       "</div>"
      ],
      "text/plain": [
       "   Amount_Requested  Amount_Funded_By_Investors  Interest_Rate Loan_Length  \\\n",
       "0             20000                     20000.0           8.90   36 months   \n",
       "1             19200                     19200.0          12.12   36 months   \n",
       "2             35000                     35000.0          21.98   60 months   \n",
       "3             10000                      9975.0           9.99   36 months   \n",
       "4             12000                     12000.0          11.71   36 months   \n",
       "\n",
       "         Loan_Purpose Debt_To_Income_Ratio State Home_Ownership  \\\n",
       "0  debt_consolidation               14.90%    SC       MORTGAGE   \n",
       "1  debt_consolidation               28.36%    TX       MORTGAGE   \n",
       "2  debt_consolidation               23.81%    CA       MORTGAGE   \n",
       "3  debt_consolidation               14.30%    KS       MORTGAGE   \n",
       "4         credit_card               18.78%    NJ           RENT   \n",
       "\n",
       "   Monthly_Income FICO_Range  Open_CREDIT_Lines  Revolving_CREDIT_Balance  \\\n",
       "0         6541.67    735-739               14.0                   14272.0   \n",
       "1         4583.33    715-719               12.0                   11140.0   \n",
       "2        11500.00    690-694               14.0                   21977.0   \n",
       "3         3833.33    695-699               10.0                    9346.0   \n",
       "4         3195.00    695-699               11.0                   14469.0   \n",
       "\n",
       "   Inquiries_in_the_Last_6_Months Employment_Length  \n",
       "0                             2.0          < 1 year  \n",
       "1                             1.0           2 years  \n",
       "2                             1.0           2 years  \n",
       "3                             0.0           5 years  \n",
       "4                             0.0           9 years  "
      ]
     },
     "execution_count": 23,
     "metadata": {},
     "output_type": "execute_result"
    }
   ],
   "source": [
    "loandata.head()"
   ]
  },
  {
   "cell_type": "code",
   "execution_count": 24,
   "id": "198a7c59",
   "metadata": {},
   "outputs": [],
   "source": [
    "loandata['Loan_Length'] = loandata['Loan_Length'].str.replace('months','')"
   ]
  },
  {
   "cell_type": "code",
   "execution_count": 25,
   "id": "2f445365",
   "metadata": {},
   "outputs": [
    {
     "data": {
      "text/html": [
       "<div>\n",
       "<style scoped>\n",
       "    .dataframe tbody tr th:only-of-type {\n",
       "        vertical-align: middle;\n",
       "    }\n",
       "\n",
       "    .dataframe tbody tr th {\n",
       "        vertical-align: top;\n",
       "    }\n",
       "\n",
       "    .dataframe thead th {\n",
       "        text-align: right;\n",
       "    }\n",
       "</style>\n",
       "<table border=\"1\" class=\"dataframe\">\n",
       "  <thead>\n",
       "    <tr style=\"text-align: right;\">\n",
       "      <th></th>\n",
       "      <th>Amount_Requested</th>\n",
       "      <th>Amount_Funded_By_Investors</th>\n",
       "      <th>Interest_Rate</th>\n",
       "      <th>Loan_Length</th>\n",
       "      <th>Loan_Purpose</th>\n",
       "      <th>Debt_To_Income_Ratio</th>\n",
       "      <th>State</th>\n",
       "      <th>Home_Ownership</th>\n",
       "      <th>Monthly_Income</th>\n",
       "      <th>FICO_Range</th>\n",
       "      <th>Open_CREDIT_Lines</th>\n",
       "      <th>Revolving_CREDIT_Balance</th>\n",
       "      <th>Inquiries_in_the_Last_6_Months</th>\n",
       "      <th>Employment_Length</th>\n",
       "    </tr>\n",
       "  </thead>\n",
       "  <tbody>\n",
       "    <tr>\n",
       "      <th>0</th>\n",
       "      <td>20000</td>\n",
       "      <td>20000.0</td>\n",
       "      <td>8.90</td>\n",
       "      <td>36</td>\n",
       "      <td>debt_consolidation</td>\n",
       "      <td>14.90%</td>\n",
       "      <td>SC</td>\n",
       "      <td>MORTGAGE</td>\n",
       "      <td>6541.67</td>\n",
       "      <td>735-739</td>\n",
       "      <td>14.0</td>\n",
       "      <td>14272.0</td>\n",
       "      <td>2.0</td>\n",
       "      <td>&lt; 1 year</td>\n",
       "    </tr>\n",
       "    <tr>\n",
       "      <th>1</th>\n",
       "      <td>19200</td>\n",
       "      <td>19200.0</td>\n",
       "      <td>12.12</td>\n",
       "      <td>36</td>\n",
       "      <td>debt_consolidation</td>\n",
       "      <td>28.36%</td>\n",
       "      <td>TX</td>\n",
       "      <td>MORTGAGE</td>\n",
       "      <td>4583.33</td>\n",
       "      <td>715-719</td>\n",
       "      <td>12.0</td>\n",
       "      <td>11140.0</td>\n",
       "      <td>1.0</td>\n",
       "      <td>2 years</td>\n",
       "    </tr>\n",
       "    <tr>\n",
       "      <th>2</th>\n",
       "      <td>35000</td>\n",
       "      <td>35000.0</td>\n",
       "      <td>21.98</td>\n",
       "      <td>60</td>\n",
       "      <td>debt_consolidation</td>\n",
       "      <td>23.81%</td>\n",
       "      <td>CA</td>\n",
       "      <td>MORTGAGE</td>\n",
       "      <td>11500.00</td>\n",
       "      <td>690-694</td>\n",
       "      <td>14.0</td>\n",
       "      <td>21977.0</td>\n",
       "      <td>1.0</td>\n",
       "      <td>2 years</td>\n",
       "    </tr>\n",
       "    <tr>\n",
       "      <th>3</th>\n",
       "      <td>10000</td>\n",
       "      <td>9975.0</td>\n",
       "      <td>9.99</td>\n",
       "      <td>36</td>\n",
       "      <td>debt_consolidation</td>\n",
       "      <td>14.30%</td>\n",
       "      <td>KS</td>\n",
       "      <td>MORTGAGE</td>\n",
       "      <td>3833.33</td>\n",
       "      <td>695-699</td>\n",
       "      <td>10.0</td>\n",
       "      <td>9346.0</td>\n",
       "      <td>0.0</td>\n",
       "      <td>5 years</td>\n",
       "    </tr>\n",
       "    <tr>\n",
       "      <th>4</th>\n",
       "      <td>12000</td>\n",
       "      <td>12000.0</td>\n",
       "      <td>11.71</td>\n",
       "      <td>36</td>\n",
       "      <td>credit_card</td>\n",
       "      <td>18.78%</td>\n",
       "      <td>NJ</td>\n",
       "      <td>RENT</td>\n",
       "      <td>3195.00</td>\n",
       "      <td>695-699</td>\n",
       "      <td>11.0</td>\n",
       "      <td>14469.0</td>\n",
       "      <td>0.0</td>\n",
       "      <td>9 years</td>\n",
       "    </tr>\n",
       "  </tbody>\n",
       "</table>\n",
       "</div>"
      ],
      "text/plain": [
       "   Amount_Requested  Amount_Funded_By_Investors  Interest_Rate Loan_Length  \\\n",
       "0             20000                     20000.0           8.90         36    \n",
       "1             19200                     19200.0          12.12         36    \n",
       "2             35000                     35000.0          21.98         60    \n",
       "3             10000                      9975.0           9.99         36    \n",
       "4             12000                     12000.0          11.71         36    \n",
       "\n",
       "         Loan_Purpose Debt_To_Income_Ratio State Home_Ownership  \\\n",
       "0  debt_consolidation               14.90%    SC       MORTGAGE   \n",
       "1  debt_consolidation               28.36%    TX       MORTGAGE   \n",
       "2  debt_consolidation               23.81%    CA       MORTGAGE   \n",
       "3  debt_consolidation               14.30%    KS       MORTGAGE   \n",
       "4         credit_card               18.78%    NJ           RENT   \n",
       "\n",
       "   Monthly_Income FICO_Range  Open_CREDIT_Lines  Revolving_CREDIT_Balance  \\\n",
       "0         6541.67    735-739               14.0                   14272.0   \n",
       "1         4583.33    715-719               12.0                   11140.0   \n",
       "2        11500.00    690-694               14.0                   21977.0   \n",
       "3         3833.33    695-699               10.0                    9346.0   \n",
       "4         3195.00    695-699               11.0                   14469.0   \n",
       "\n",
       "   Inquiries_in_the_Last_6_Months Employment_Length  \n",
       "0                             2.0          < 1 year  \n",
       "1                             1.0           2 years  \n",
       "2                             1.0           2 years  \n",
       "3                             0.0           5 years  \n",
       "4                             0.0           9 years  "
      ]
     },
     "execution_count": 25,
     "metadata": {},
     "output_type": "execute_result"
    }
   ],
   "source": [
    "loandata.head()"
   ]
  },
  {
   "cell_type": "code",
   "execution_count": 26,
   "id": "ed190c26",
   "metadata": {},
   "outputs": [
    {
     "data": {
      "text/plain": [
       "Amount_Requested                    int32\n",
       "Amount_Funded_By_Investors        float64\n",
       "Interest_Rate                     float64\n",
       "Loan_Length                        object\n",
       "Loan_Purpose                       object\n",
       "Debt_To_Income_Ratio               object\n",
       "State                              object\n",
       "Home_Ownership                     object\n",
       "Monthly_Income                    float64\n",
       "FICO_Range                         object\n",
       "Open_CREDIT_Lines                 float64\n",
       "Revolving_CREDIT_Balance          float64\n",
       "Inquiries_in_the_Last_6_Months    float64\n",
       "Employment_Length                  object\n",
       "dtype: object"
      ]
     },
     "execution_count": 26,
     "metadata": {},
     "output_type": "execute_result"
    }
   ],
   "source": [
    "loandata.dtypes"
   ]
  },
  {
   "cell_type": "code",
   "execution_count": 27,
   "id": "e9c1a00b",
   "metadata": {},
   "outputs": [],
   "source": [
    "loandata['Loan_Length'] = loandata['Loan_Length'].astype(int)"
   ]
  },
  {
   "cell_type": "code",
   "execution_count": 28,
   "id": "df554d30",
   "metadata": {},
   "outputs": [],
   "source": [
    "loandata['Loan_Purpose'] = loandata['Loan_Purpose'].astype('str')"
   ]
  },
  {
   "cell_type": "code",
   "execution_count": 29,
   "id": "ba316962",
   "metadata": {},
   "outputs": [
    {
     "data": {
      "text/plain": [
       "Amount_Requested                    int32\n",
       "Amount_Funded_By_Investors        float64\n",
       "Interest_Rate                     float64\n",
       "Loan_Length                         int32\n",
       "Loan_Purpose                       object\n",
       "Debt_To_Income_Ratio               object\n",
       "State                              object\n",
       "Home_Ownership                     object\n",
       "Monthly_Income                    float64\n",
       "FICO_Range                         object\n",
       "Open_CREDIT_Lines                 float64\n",
       "Revolving_CREDIT_Balance          float64\n",
       "Inquiries_in_the_Last_6_Months    float64\n",
       "Employment_Length                  object\n",
       "dtype: object"
      ]
     },
     "execution_count": 29,
     "metadata": {},
     "output_type": "execute_result"
    }
   ],
   "source": [
    "loandata.dtypes"
   ]
  },
  {
   "cell_type": "code",
   "execution_count": null,
   "id": "1d0f453f",
   "metadata": {},
   "outputs": [],
   "source": [
    "H0 - Loan length is not affecting intrest rate\n",
    "Ha- Loan length is affecting intrest rate"
   ]
  },
  {
   "cell_type": "code",
   "execution_count": 30,
   "id": "24d4df3a",
   "metadata": {},
   "outputs": [
    {
     "data": {
      "text/plain": [
       "(0.42505738230947654, 1.7938010673370282e-106)"
      ]
     },
     "execution_count": 30,
     "metadata": {},
     "output_type": "execute_result"
    }
   ],
   "source": [
    "stats.pearsonr(loandata.Interest_Rate,loandata.Loan_Length)"
   ]
  },
  {
   "cell_type": "code",
   "execution_count": null,
   "id": "4143f756",
   "metadata": {},
   "outputs": [],
   "source": [
    "reject the h0 null hypothesis"
   ]
  },
  {
   "cell_type": "code",
   "execution_count": null,
   "id": "02a6209a",
   "metadata": {},
   "outputs": [],
   "source": [
    "#c. Inrest rate varies for different purpose of loans"
   ]
  },
  {
   "cell_type": "code",
   "execution_count": null,
   "id": "106ad063",
   "metadata": {},
   "outputs": [],
   "source": [
    "H0- Intrest rate is not varied\n",
    "Ha- intrest rate varied for purpose of loans\n",
    "CI - 95%\n",
    "p - 0.05"
   ]
  },
  {
   "cell_type": "code",
   "execution_count": 31,
   "id": "2ad2ce1e",
   "metadata": {},
   "outputs": [
    {
     "data": {
      "text/html": [
       "<div>\n",
       "<style scoped>\n",
       "    .dataframe tbody tr th:only-of-type {\n",
       "        vertical-align: middle;\n",
       "    }\n",
       "\n",
       "    .dataframe tbody tr th {\n",
       "        vertical-align: top;\n",
       "    }\n",
       "\n",
       "    .dataframe thead th {\n",
       "        text-align: right;\n",
       "    }\n",
       "</style>\n",
       "<table border=\"1\" class=\"dataframe\">\n",
       "  <thead>\n",
       "    <tr style=\"text-align: right;\">\n",
       "      <th></th>\n",
       "      <th>Amount_Requested</th>\n",
       "      <th>Amount_Funded_By_Investors</th>\n",
       "      <th>Interest_Rate</th>\n",
       "      <th>Loan_Length</th>\n",
       "      <th>Loan_Purpose</th>\n",
       "      <th>Debt_To_Income_Ratio</th>\n",
       "      <th>State</th>\n",
       "      <th>Home_Ownership</th>\n",
       "      <th>Monthly_Income</th>\n",
       "      <th>FICO_Range</th>\n",
       "      <th>Open_CREDIT_Lines</th>\n",
       "      <th>Revolving_CREDIT_Balance</th>\n",
       "      <th>Inquiries_in_the_Last_6_Months</th>\n",
       "      <th>Employment_Length</th>\n",
       "    </tr>\n",
       "  </thead>\n",
       "  <tbody>\n",
       "    <tr>\n",
       "      <th>0</th>\n",
       "      <td>20000</td>\n",
       "      <td>20000.0</td>\n",
       "      <td>8.90</td>\n",
       "      <td>36</td>\n",
       "      <td>debt_consolidation</td>\n",
       "      <td>14.90%</td>\n",
       "      <td>SC</td>\n",
       "      <td>MORTGAGE</td>\n",
       "      <td>6541.67</td>\n",
       "      <td>735-739</td>\n",
       "      <td>14.0</td>\n",
       "      <td>14272.0</td>\n",
       "      <td>2.0</td>\n",
       "      <td>&lt; 1 year</td>\n",
       "    </tr>\n",
       "    <tr>\n",
       "      <th>1</th>\n",
       "      <td>19200</td>\n",
       "      <td>19200.0</td>\n",
       "      <td>12.12</td>\n",
       "      <td>36</td>\n",
       "      <td>debt_consolidation</td>\n",
       "      <td>28.36%</td>\n",
       "      <td>TX</td>\n",
       "      <td>MORTGAGE</td>\n",
       "      <td>4583.33</td>\n",
       "      <td>715-719</td>\n",
       "      <td>12.0</td>\n",
       "      <td>11140.0</td>\n",
       "      <td>1.0</td>\n",
       "      <td>2 years</td>\n",
       "    </tr>\n",
       "    <tr>\n",
       "      <th>2</th>\n",
       "      <td>35000</td>\n",
       "      <td>35000.0</td>\n",
       "      <td>21.98</td>\n",
       "      <td>60</td>\n",
       "      <td>debt_consolidation</td>\n",
       "      <td>23.81%</td>\n",
       "      <td>CA</td>\n",
       "      <td>MORTGAGE</td>\n",
       "      <td>11500.00</td>\n",
       "      <td>690-694</td>\n",
       "      <td>14.0</td>\n",
       "      <td>21977.0</td>\n",
       "      <td>1.0</td>\n",
       "      <td>2 years</td>\n",
       "    </tr>\n",
       "    <tr>\n",
       "      <th>3</th>\n",
       "      <td>10000</td>\n",
       "      <td>9975.0</td>\n",
       "      <td>9.99</td>\n",
       "      <td>36</td>\n",
       "      <td>debt_consolidation</td>\n",
       "      <td>14.30%</td>\n",
       "      <td>KS</td>\n",
       "      <td>MORTGAGE</td>\n",
       "      <td>3833.33</td>\n",
       "      <td>695-699</td>\n",
       "      <td>10.0</td>\n",
       "      <td>9346.0</td>\n",
       "      <td>0.0</td>\n",
       "      <td>5 years</td>\n",
       "    </tr>\n",
       "    <tr>\n",
       "      <th>4</th>\n",
       "      <td>12000</td>\n",
       "      <td>12000.0</td>\n",
       "      <td>11.71</td>\n",
       "      <td>36</td>\n",
       "      <td>credit_card</td>\n",
       "      <td>18.78%</td>\n",
       "      <td>NJ</td>\n",
       "      <td>RENT</td>\n",
       "      <td>3195.00</td>\n",
       "      <td>695-699</td>\n",
       "      <td>11.0</td>\n",
       "      <td>14469.0</td>\n",
       "      <td>0.0</td>\n",
       "      <td>9 years</td>\n",
       "    </tr>\n",
       "    <tr>\n",
       "      <th>...</th>\n",
       "      <td>...</td>\n",
       "      <td>...</td>\n",
       "      <td>...</td>\n",
       "      <td>...</td>\n",
       "      <td>...</td>\n",
       "      <td>...</td>\n",
       "      <td>...</td>\n",
       "      <td>...</td>\n",
       "      <td>...</td>\n",
       "      <td>...</td>\n",
       "      <td>...</td>\n",
       "      <td>...</td>\n",
       "      <td>...</td>\n",
       "      <td>...</td>\n",
       "    </tr>\n",
       "    <tr>\n",
       "      <th>97</th>\n",
       "      <td>12000</td>\n",
       "      <td>12000.0</td>\n",
       "      <td>11.14</td>\n",
       "      <td>36</td>\n",
       "      <td>debt_consolidation</td>\n",
       "      <td>2.37%</td>\n",
       "      <td>MD</td>\n",
       "      <td>MORTGAGE</td>\n",
       "      <td>12500.00</td>\n",
       "      <td>735-739</td>\n",
       "      <td>13.0</td>\n",
       "      <td>10944.0</td>\n",
       "      <td>0.0</td>\n",
       "      <td>5 years</td>\n",
       "    </tr>\n",
       "    <tr>\n",
       "      <th>98</th>\n",
       "      <td>10375</td>\n",
       "      <td>10375.0</td>\n",
       "      <td>19.72</td>\n",
       "      <td>36</td>\n",
       "      <td>debt_consolidation</td>\n",
       "      <td>4.99%</td>\n",
       "      <td>CT</td>\n",
       "      <td>RENT</td>\n",
       "      <td>4166.67</td>\n",
       "      <td>665-669</td>\n",
       "      <td>9.0</td>\n",
       "      <td>6122.0</td>\n",
       "      <td>1.0</td>\n",
       "      <td>5 years</td>\n",
       "    </tr>\n",
       "    <tr>\n",
       "      <th>99</th>\n",
       "      <td>4800</td>\n",
       "      <td>4800.0</td>\n",
       "      <td>18.75</td>\n",
       "      <td>36</td>\n",
       "      <td>other</td>\n",
       "      <td>10.89%</td>\n",
       "      <td>NM</td>\n",
       "      <td>MORTGAGE</td>\n",
       "      <td>5833.33</td>\n",
       "      <td>670-674</td>\n",
       "      <td>8.0</td>\n",
       "      <td>17943.0</td>\n",
       "      <td>0.0</td>\n",
       "      <td>10+ years</td>\n",
       "    </tr>\n",
       "    <tr>\n",
       "      <th>100</th>\n",
       "      <td>6400</td>\n",
       "      <td>6400.0</td>\n",
       "      <td>13.11</td>\n",
       "      <td>36</td>\n",
       "      <td>credit_card</td>\n",
       "      <td>11.46%</td>\n",
       "      <td>LA</td>\n",
       "      <td>MORTGAGE</td>\n",
       "      <td>4666.67</td>\n",
       "      <td>700-704</td>\n",
       "      <td>7.0</td>\n",
       "      <td>8942.0</td>\n",
       "      <td>1.0</td>\n",
       "      <td>10+ years</td>\n",
       "    </tr>\n",
       "    <tr>\n",
       "      <th>101</th>\n",
       "      <td>5000</td>\n",
       "      <td>5000.0</td>\n",
       "      <td>7.90</td>\n",
       "      <td>36</td>\n",
       "      <td>debt_consolidation</td>\n",
       "      <td>17.22%</td>\n",
       "      <td>CA</td>\n",
       "      <td>OWN</td>\n",
       "      <td>4000.00</td>\n",
       "      <td>705-709</td>\n",
       "      <td>10.0</td>\n",
       "      <td>6023.0</td>\n",
       "      <td>0.0</td>\n",
       "      <td>10+ years</td>\n",
       "    </tr>\n",
       "  </tbody>\n",
       "</table>\n",
       "<p>100 rows × 14 columns</p>\n",
       "</div>"
      ],
      "text/plain": [
       "     Amount_Requested  Amount_Funded_By_Investors  Interest_Rate  Loan_Length  \\\n",
       "0               20000                     20000.0           8.90           36   \n",
       "1               19200                     19200.0          12.12           36   \n",
       "2               35000                     35000.0          21.98           60   \n",
       "3               10000                      9975.0           9.99           36   \n",
       "4               12000                     12000.0          11.71           36   \n",
       "..                ...                         ...            ...          ...   \n",
       "97              12000                     12000.0          11.14           36   \n",
       "98              10375                     10375.0          19.72           36   \n",
       "99               4800                      4800.0          18.75           36   \n",
       "100              6400                      6400.0          13.11           36   \n",
       "101              5000                      5000.0           7.90           36   \n",
       "\n",
       "           Loan_Purpose Debt_To_Income_Ratio State Home_Ownership  \\\n",
       "0    debt_consolidation               14.90%    SC       MORTGAGE   \n",
       "1    debt_consolidation               28.36%    TX       MORTGAGE   \n",
       "2    debt_consolidation               23.81%    CA       MORTGAGE   \n",
       "3    debt_consolidation               14.30%    KS       MORTGAGE   \n",
       "4           credit_card               18.78%    NJ           RENT   \n",
       "..                  ...                  ...   ...            ...   \n",
       "97   debt_consolidation                2.37%    MD       MORTGAGE   \n",
       "98   debt_consolidation                4.99%    CT           RENT   \n",
       "99                other               10.89%    NM       MORTGAGE   \n",
       "100         credit_card               11.46%    LA       MORTGAGE   \n",
       "101  debt_consolidation               17.22%    CA            OWN   \n",
       "\n",
       "     Monthly_Income FICO_Range  Open_CREDIT_Lines  Revolving_CREDIT_Balance  \\\n",
       "0           6541.67    735-739               14.0                   14272.0   \n",
       "1           4583.33    715-719               12.0                   11140.0   \n",
       "2          11500.00    690-694               14.0                   21977.0   \n",
       "3           3833.33    695-699               10.0                    9346.0   \n",
       "4           3195.00    695-699               11.0                   14469.0   \n",
       "..              ...        ...                ...                       ...   \n",
       "97         12500.00    735-739               13.0                   10944.0   \n",
       "98          4166.67    665-669                9.0                    6122.0   \n",
       "99          5833.33    670-674                8.0                   17943.0   \n",
       "100         4666.67    700-704                7.0                    8942.0   \n",
       "101         4000.00    705-709               10.0                    6023.0   \n",
       "\n",
       "     Inquiries_in_the_Last_6_Months Employment_Length  \n",
       "0                               2.0          < 1 year  \n",
       "1                               1.0           2 years  \n",
       "2                               1.0           2 years  \n",
       "3                               0.0           5 years  \n",
       "4                               0.0           9 years  \n",
       "..                              ...               ...  \n",
       "97                              0.0           5 years  \n",
       "98                              1.0           5 years  \n",
       "99                              0.0         10+ years  \n",
       "100                             1.0         10+ years  \n",
       "101                             0.0         10+ years  \n",
       "\n",
       "[100 rows x 14 columns]"
      ]
     },
     "execution_count": 31,
     "metadata": {},
     "output_type": "execute_result"
    }
   ],
   "source": [
    "loandata.head(100)"
   ]
  },
  {
   "cell_type": "code",
   "execution_count": 32,
   "id": "4ffbdfb0",
   "metadata": {},
   "outputs": [
    {
     "data": {
      "text/plain": [
       "Index(['Amount_Requested', 'Amount_Funded_By_Investors', 'Interest_Rate',\n",
       "       'Loan_Length', 'Loan_Purpose', 'Debt_To_Income_Ratio', 'State',\n",
       "       'Home_Ownership', 'Monthly_Income', 'FICO_Range', 'Open_CREDIT_Lines',\n",
       "       'Revolving_CREDIT_Balance', 'Inquiries_in_the_Last_6_Months',\n",
       "       'Employment_Length'],\n",
       "      dtype='object')"
      ]
     },
     "execution_count": 32,
     "metadata": {},
     "output_type": "execute_result"
    }
   ],
   "source": [
    "loandata.columns"
   ]
  },
  {
   "cell_type": "code",
   "execution_count": 33,
   "id": "3b2a7c58",
   "metadata": {},
   "outputs": [],
   "source": [
    "loandata['Loan_Purpose']=loandata['Loan_Purpose'].astype('category')"
   ]
  },
  {
   "cell_type": "code",
   "execution_count": 34,
   "id": "8f8efb2a",
   "metadata": {},
   "outputs": [
    {
     "data": {
      "text/plain": [
       "Amount_Requested                     int32\n",
       "Amount_Funded_By_Investors         float64\n",
       "Interest_Rate                      float64\n",
       "Loan_Length                          int32\n",
       "Loan_Purpose                      category\n",
       "Debt_To_Income_Ratio                object\n",
       "State                               object\n",
       "Home_Ownership                      object\n",
       "Monthly_Income                     float64\n",
       "FICO_Range                          object\n",
       "Open_CREDIT_Lines                  float64\n",
       "Revolving_CREDIT_Balance           float64\n",
       "Inquiries_in_the_Last_6_Months     float64\n",
       "Employment_Length                   object\n",
       "dtype: object"
      ]
     },
     "execution_count": 34,
     "metadata": {},
     "output_type": "execute_result"
    }
   ],
   "source": [
    "loandata.dtypes"
   ]
  },
  {
   "cell_type": "code",
   "execution_count": 35,
   "id": "705efeef",
   "metadata": {},
   "outputs": [
    {
     "data": {
      "text/plain": [
       "SpearmanrResult(correlation=-0.05369361470239015, pvalue=0.008337443233367109)"
      ]
     },
     "execution_count": 35,
     "metadata": {},
     "output_type": "execute_result"
    }
   ],
   "source": [
    "stats.spearmanr(loandata.Loan_Purpose,loandata.Interest_Rate)"
   ]
  },
  {
   "cell_type": "code",
   "execution_count": null,
   "id": "124401dd",
   "metadata": {},
   "outputs": [],
   "source": [
    "Reject the H0 the null hypothesis"
   ]
  },
  {
   "cell_type": "code",
   "execution_count": null,
   "id": "c24ae9c3",
   "metadata": {},
   "outputs": [],
   "source": [
    "#d. There is relationship between FICO scores and Home Ownership. It means that, People\n",
    "#with owning home will have high FICO scores."
   ]
  },
  {
   "cell_type": "code",
   "execution_count": 36,
   "id": "c905ca26",
   "metadata": {},
   "outputs": [
    {
     "data": {
      "text/html": [
       "<div>\n",
       "<style scoped>\n",
       "    .dataframe tbody tr th:only-of-type {\n",
       "        vertical-align: middle;\n",
       "    }\n",
       "\n",
       "    .dataframe tbody tr th {\n",
       "        vertical-align: top;\n",
       "    }\n",
       "\n",
       "    .dataframe thead th {\n",
       "        text-align: right;\n",
       "    }\n",
       "</style>\n",
       "<table border=\"1\" class=\"dataframe\">\n",
       "  <thead>\n",
       "    <tr style=\"text-align: right;\">\n",
       "      <th></th>\n",
       "      <th>Amount_Requested</th>\n",
       "      <th>Amount_Funded_By_Investors</th>\n",
       "      <th>Interest_Rate</th>\n",
       "      <th>Loan_Length</th>\n",
       "      <th>Loan_Purpose</th>\n",
       "      <th>Debt_To_Income_Ratio</th>\n",
       "      <th>State</th>\n",
       "      <th>Home_Ownership</th>\n",
       "      <th>Monthly_Income</th>\n",
       "      <th>FICO_Range</th>\n",
       "      <th>Open_CREDIT_Lines</th>\n",
       "      <th>Revolving_CREDIT_Balance</th>\n",
       "      <th>Inquiries_in_the_Last_6_Months</th>\n",
       "      <th>Employment_Length</th>\n",
       "    </tr>\n",
       "  </thead>\n",
       "  <tbody>\n",
       "    <tr>\n",
       "      <th>0</th>\n",
       "      <td>20000</td>\n",
       "      <td>20000.0</td>\n",
       "      <td>8.90</td>\n",
       "      <td>36</td>\n",
       "      <td>debt_consolidation</td>\n",
       "      <td>14.90%</td>\n",
       "      <td>SC</td>\n",
       "      <td>MORTGAGE</td>\n",
       "      <td>6541.67</td>\n",
       "      <td>735-739</td>\n",
       "      <td>14.0</td>\n",
       "      <td>14272.0</td>\n",
       "      <td>2.0</td>\n",
       "      <td>&lt; 1 year</td>\n",
       "    </tr>\n",
       "    <tr>\n",
       "      <th>1</th>\n",
       "      <td>19200</td>\n",
       "      <td>19200.0</td>\n",
       "      <td>12.12</td>\n",
       "      <td>36</td>\n",
       "      <td>debt_consolidation</td>\n",
       "      <td>28.36%</td>\n",
       "      <td>TX</td>\n",
       "      <td>MORTGAGE</td>\n",
       "      <td>4583.33</td>\n",
       "      <td>715-719</td>\n",
       "      <td>12.0</td>\n",
       "      <td>11140.0</td>\n",
       "      <td>1.0</td>\n",
       "      <td>2 years</td>\n",
       "    </tr>\n",
       "    <tr>\n",
       "      <th>2</th>\n",
       "      <td>35000</td>\n",
       "      <td>35000.0</td>\n",
       "      <td>21.98</td>\n",
       "      <td>60</td>\n",
       "      <td>debt_consolidation</td>\n",
       "      <td>23.81%</td>\n",
       "      <td>CA</td>\n",
       "      <td>MORTGAGE</td>\n",
       "      <td>11500.00</td>\n",
       "      <td>690-694</td>\n",
       "      <td>14.0</td>\n",
       "      <td>21977.0</td>\n",
       "      <td>1.0</td>\n",
       "      <td>2 years</td>\n",
       "    </tr>\n",
       "    <tr>\n",
       "      <th>3</th>\n",
       "      <td>10000</td>\n",
       "      <td>9975.0</td>\n",
       "      <td>9.99</td>\n",
       "      <td>36</td>\n",
       "      <td>debt_consolidation</td>\n",
       "      <td>14.30%</td>\n",
       "      <td>KS</td>\n",
       "      <td>MORTGAGE</td>\n",
       "      <td>3833.33</td>\n",
       "      <td>695-699</td>\n",
       "      <td>10.0</td>\n",
       "      <td>9346.0</td>\n",
       "      <td>0.0</td>\n",
       "      <td>5 years</td>\n",
       "    </tr>\n",
       "    <tr>\n",
       "      <th>4</th>\n",
       "      <td>12000</td>\n",
       "      <td>12000.0</td>\n",
       "      <td>11.71</td>\n",
       "      <td>36</td>\n",
       "      <td>credit_card</td>\n",
       "      <td>18.78%</td>\n",
       "      <td>NJ</td>\n",
       "      <td>RENT</td>\n",
       "      <td>3195.00</td>\n",
       "      <td>695-699</td>\n",
       "      <td>11.0</td>\n",
       "      <td>14469.0</td>\n",
       "      <td>0.0</td>\n",
       "      <td>9 years</td>\n",
       "    </tr>\n",
       "    <tr>\n",
       "      <th>...</th>\n",
       "      <td>...</td>\n",
       "      <td>...</td>\n",
       "      <td>...</td>\n",
       "      <td>...</td>\n",
       "      <td>...</td>\n",
       "      <td>...</td>\n",
       "      <td>...</td>\n",
       "      <td>...</td>\n",
       "      <td>...</td>\n",
       "      <td>...</td>\n",
       "      <td>...</td>\n",
       "      <td>...</td>\n",
       "      <td>...</td>\n",
       "      <td>...</td>\n",
       "    </tr>\n",
       "    <tr>\n",
       "      <th>97</th>\n",
       "      <td>12000</td>\n",
       "      <td>12000.0</td>\n",
       "      <td>11.14</td>\n",
       "      <td>36</td>\n",
       "      <td>debt_consolidation</td>\n",
       "      <td>2.37%</td>\n",
       "      <td>MD</td>\n",
       "      <td>MORTGAGE</td>\n",
       "      <td>12500.00</td>\n",
       "      <td>735-739</td>\n",
       "      <td>13.0</td>\n",
       "      <td>10944.0</td>\n",
       "      <td>0.0</td>\n",
       "      <td>5 years</td>\n",
       "    </tr>\n",
       "    <tr>\n",
       "      <th>98</th>\n",
       "      <td>10375</td>\n",
       "      <td>10375.0</td>\n",
       "      <td>19.72</td>\n",
       "      <td>36</td>\n",
       "      <td>debt_consolidation</td>\n",
       "      <td>4.99%</td>\n",
       "      <td>CT</td>\n",
       "      <td>RENT</td>\n",
       "      <td>4166.67</td>\n",
       "      <td>665-669</td>\n",
       "      <td>9.0</td>\n",
       "      <td>6122.0</td>\n",
       "      <td>1.0</td>\n",
       "      <td>5 years</td>\n",
       "    </tr>\n",
       "    <tr>\n",
       "      <th>99</th>\n",
       "      <td>4800</td>\n",
       "      <td>4800.0</td>\n",
       "      <td>18.75</td>\n",
       "      <td>36</td>\n",
       "      <td>other</td>\n",
       "      <td>10.89%</td>\n",
       "      <td>NM</td>\n",
       "      <td>MORTGAGE</td>\n",
       "      <td>5833.33</td>\n",
       "      <td>670-674</td>\n",
       "      <td>8.0</td>\n",
       "      <td>17943.0</td>\n",
       "      <td>0.0</td>\n",
       "      <td>10+ years</td>\n",
       "    </tr>\n",
       "    <tr>\n",
       "      <th>100</th>\n",
       "      <td>6400</td>\n",
       "      <td>6400.0</td>\n",
       "      <td>13.11</td>\n",
       "      <td>36</td>\n",
       "      <td>credit_card</td>\n",
       "      <td>11.46%</td>\n",
       "      <td>LA</td>\n",
       "      <td>MORTGAGE</td>\n",
       "      <td>4666.67</td>\n",
       "      <td>700-704</td>\n",
       "      <td>7.0</td>\n",
       "      <td>8942.0</td>\n",
       "      <td>1.0</td>\n",
       "      <td>10+ years</td>\n",
       "    </tr>\n",
       "    <tr>\n",
       "      <th>101</th>\n",
       "      <td>5000</td>\n",
       "      <td>5000.0</td>\n",
       "      <td>7.90</td>\n",
       "      <td>36</td>\n",
       "      <td>debt_consolidation</td>\n",
       "      <td>17.22%</td>\n",
       "      <td>CA</td>\n",
       "      <td>OWN</td>\n",
       "      <td>4000.00</td>\n",
       "      <td>705-709</td>\n",
       "      <td>10.0</td>\n",
       "      <td>6023.0</td>\n",
       "      <td>0.0</td>\n",
       "      <td>10+ years</td>\n",
       "    </tr>\n",
       "  </tbody>\n",
       "</table>\n",
       "<p>100 rows × 14 columns</p>\n",
       "</div>"
      ],
      "text/plain": [
       "     Amount_Requested  Amount_Funded_By_Investors  Interest_Rate  Loan_Length  \\\n",
       "0               20000                     20000.0           8.90           36   \n",
       "1               19200                     19200.0          12.12           36   \n",
       "2               35000                     35000.0          21.98           60   \n",
       "3               10000                      9975.0           9.99           36   \n",
       "4               12000                     12000.0          11.71           36   \n",
       "..                ...                         ...            ...          ...   \n",
       "97              12000                     12000.0          11.14           36   \n",
       "98              10375                     10375.0          19.72           36   \n",
       "99               4800                      4800.0          18.75           36   \n",
       "100              6400                      6400.0          13.11           36   \n",
       "101              5000                      5000.0           7.90           36   \n",
       "\n",
       "           Loan_Purpose Debt_To_Income_Ratio State Home_Ownership  \\\n",
       "0    debt_consolidation               14.90%    SC       MORTGAGE   \n",
       "1    debt_consolidation               28.36%    TX       MORTGAGE   \n",
       "2    debt_consolidation               23.81%    CA       MORTGAGE   \n",
       "3    debt_consolidation               14.30%    KS       MORTGAGE   \n",
       "4           credit_card               18.78%    NJ           RENT   \n",
       "..                  ...                  ...   ...            ...   \n",
       "97   debt_consolidation                2.37%    MD       MORTGAGE   \n",
       "98   debt_consolidation                4.99%    CT           RENT   \n",
       "99                other               10.89%    NM       MORTGAGE   \n",
       "100         credit_card               11.46%    LA       MORTGAGE   \n",
       "101  debt_consolidation               17.22%    CA            OWN   \n",
       "\n",
       "     Monthly_Income FICO_Range  Open_CREDIT_Lines  Revolving_CREDIT_Balance  \\\n",
       "0           6541.67    735-739               14.0                   14272.0   \n",
       "1           4583.33    715-719               12.0                   11140.0   \n",
       "2          11500.00    690-694               14.0                   21977.0   \n",
       "3           3833.33    695-699               10.0                    9346.0   \n",
       "4           3195.00    695-699               11.0                   14469.0   \n",
       "..              ...        ...                ...                       ...   \n",
       "97         12500.00    735-739               13.0                   10944.0   \n",
       "98          4166.67    665-669                9.0                    6122.0   \n",
       "99          5833.33    670-674                8.0                   17943.0   \n",
       "100         4666.67    700-704                7.0                    8942.0   \n",
       "101         4000.00    705-709               10.0                    6023.0   \n",
       "\n",
       "     Inquiries_in_the_Last_6_Months Employment_Length  \n",
       "0                               2.0          < 1 year  \n",
       "1                               1.0           2 years  \n",
       "2                               1.0           2 years  \n",
       "3                               0.0           5 years  \n",
       "4                               0.0           9 years  \n",
       "..                              ...               ...  \n",
       "97                              0.0           5 years  \n",
       "98                              1.0           5 years  \n",
       "99                              0.0         10+ years  \n",
       "100                             1.0         10+ years  \n",
       "101                             0.0         10+ years  \n",
       "\n",
       "[100 rows x 14 columns]"
      ]
     },
     "execution_count": 36,
     "metadata": {},
     "output_type": "execute_result"
    }
   ],
   "source": [
    "loandata.head(100)"
   ]
  },
  {
   "cell_type": "code",
   "execution_count": 37,
   "id": "fba899f3",
   "metadata": {},
   "outputs": [
    {
     "data": {
      "text/plain": [
       "Amount_Requested                     int32\n",
       "Amount_Funded_By_Investors         float64\n",
       "Interest_Rate                      float64\n",
       "Loan_Length                          int32\n",
       "Loan_Purpose                      category\n",
       "Debt_To_Income_Ratio                object\n",
       "State                               object\n",
       "Home_Ownership                      object\n",
       "Monthly_Income                     float64\n",
       "FICO_Range                          object\n",
       "Open_CREDIT_Lines                  float64\n",
       "Revolving_CREDIT_Balance           float64\n",
       "Inquiries_in_the_Last_6_Months     float64\n",
       "Employment_Length                   object\n",
       "dtype: object"
      ]
     },
     "execution_count": 37,
     "metadata": {},
     "output_type": "execute_result"
    }
   ],
   "source": [
    "loandata.dtypes"
   ]
  },
  {
   "cell_type": "code",
   "execution_count": 38,
   "id": "44c6ad56",
   "metadata": {},
   "outputs": [],
   "source": [
    "loandata['FICO_Range']=loandata['FICO_Range'].astype('string')"
   ]
  },
  {
   "cell_type": "code",
   "execution_count": 39,
   "id": "8f8e20ac",
   "metadata": {},
   "outputs": [],
   "source": [
    "loandata['FICO_Range']=loandata['FICO_Range'].astype('category')"
   ]
  },
  {
   "cell_type": "code",
   "execution_count": 40,
   "id": "2084029f",
   "metadata": {},
   "outputs": [],
   "source": [
    "loandata['Home_Ownership']=loandata['Home_Ownership'].astype('category')"
   ]
  },
  {
   "cell_type": "code",
   "execution_count": 41,
   "id": "4c2c4488",
   "metadata": {},
   "outputs": [
    {
     "data": {
      "text/plain": [
       "Amount_Requested                     int32\n",
       "Amount_Funded_By_Investors         float64\n",
       "Interest_Rate                      float64\n",
       "Loan_Length                          int32\n",
       "Loan_Purpose                      category\n",
       "Debt_To_Income_Ratio                object\n",
       "State                               object\n",
       "Home_Ownership                    category\n",
       "Monthly_Income                     float64\n",
       "FICO_Range                        category\n",
       "Open_CREDIT_Lines                  float64\n",
       "Revolving_CREDIT_Balance           float64\n",
       "Inquiries_in_the_Last_6_Months     float64\n",
       "Employment_Length                   object\n",
       "dtype: object"
      ]
     },
     "execution_count": 41,
     "metadata": {},
     "output_type": "execute_result"
    }
   ],
   "source": [
    "loandata.dtypes"
   ]
  },
  {
   "cell_type": "code",
   "execution_count": null,
   "id": "3c6af33d",
   "metadata": {},
   "outputs": [],
   "source": [
    "H0 - There is realtionship between the variables\n",
    "Ha- There is no realtionship between the variables"
   ]
  },
  {
   "cell_type": "code",
   "execution_count": null,
   "id": "1d94ea55",
   "metadata": {},
   "outputs": [],
   "source": [
    "CI - 95%\n",
    "p - 0.05"
   ]
  },
  {
   "cell_type": "code",
   "execution_count": 42,
   "id": "e3c61994",
   "metadata": {},
   "outputs": [
    {
     "name": "stdout",
     "output_type": "stream",
     "text": [
      "Home_Ownership  MORTGAGE  OTHER  OWN  RENT\n",
      "FICO_Range                                \n",
      "640-644                0      0    1     4\n",
      "645-649                1      0    0     2\n",
      "650-654                1      0    0     0\n",
      "655-659                0      1    0     3\n",
      "660-664               40      0   14    64\n",
      "665-669               52      0   17    69\n",
      "670-674               66      1   13    87\n",
      "675-679               78      1   10    72\n",
      "680-684               55      2    9    91\n",
      "685-689               58      0   10    60\n",
      "690-694               52      0    9    74\n",
      "695-699               64      0   10    72\n",
      "700-704               57      0   10    57\n",
      "705-709               65      0   12    54\n",
      "710-714               52      0   10    45\n",
      "715-719               45      0    2    45\n",
      "720-724               46      0    0    62\n",
      "725-729               45      0    5    41\n",
      "730-734               46      0    7    41\n",
      "735-739               30      0    6    29\n",
      "740-744               24      0    4    22\n",
      "745-749               26      0    7    21\n",
      "750-754               32      0    4    24\n",
      "755-759               27      0    5    12\n",
      "760-764               27      0    4    14\n",
      "765-769               18      0    3    11\n",
      "770-774               12      0    1     4\n",
      "775-779               13      0    3     6\n",
      "780-784               19      0    3     4\n",
      "785-789               12      0    1     4\n",
      "790-794               15      0    1     4\n",
      "795-799                7      0    1     5\n",
      "800-804                7      0    3     2\n",
      "805-809                6      0    2     3\n",
      "810-814                5      0    1     2\n",
      "815-819                5      0    0     0\n",
      "820-824                0      0    1     0\n",
      "830-834                1      0    0     0\n"
     ]
    }
   ],
   "source": [
    "obs_freq = pd.crosstab( loandata.FICO_Range,loandata.Home_Ownership)\n",
    "print(obs_freq)"
   ]
  },
  {
   "cell_type": "code",
   "execution_count": 43,
   "id": "44e72a0e",
   "metadata": {},
   "outputs": [
    {
     "data": {
      "text/plain": [
       "(269.7881202757335,\n",
       " 3.087547281383599e-15,\n",
       " 111,\n",
       " array([[2.29796933e+00, 1.03605470e-02, 3.91628678e-01, 2.30004144e+00],\n",
       "        [1.37878160e+00, 6.21632822e-03, 2.34977207e-01, 1.38002487e+00],\n",
       "        [4.59593867e-01, 2.07210941e-03, 7.83257356e-02, 4.60008288e-01],\n",
       "        [1.83837547e+00, 8.28843763e-03, 3.13302942e-01, 1.84003315e+00],\n",
       "        [5.42320763e+01, 2.44508910e-01, 9.24243680e+00, 5.42809780e+01],\n",
       "        [6.34239536e+01, 2.85951098e-01, 1.08089515e+01, 6.34811438e+01],\n",
       "        [7.67521757e+01, 3.46042271e-01, 1.30803978e+01, 7.68213842e+01],\n",
       "        [7.39946125e+01, 3.33609615e-01, 1.26104434e+01, 7.40613344e+01],\n",
       "        [7.21562370e+01, 3.25321177e-01, 1.22971405e+01, 7.22213013e+01],\n",
       "        [5.88280149e+01, 2.65230004e-01, 1.00256942e+01, 5.88810609e+01],\n",
       "        [6.20451720e+01, 2.79734770e-01, 1.05739743e+01, 6.21011189e+01],\n",
       "        [6.71007045e+01, 3.02527973e-01, 1.14355574e+01, 6.71612101e+01],\n",
       "        [5.69896395e+01, 2.56941567e-01, 9.71239121e+00, 5.70410278e+01],\n",
       "        [6.02067965e+01, 2.71446332e-01, 1.02606714e+01, 6.02610858e+01],\n",
       "        [4.91765437e+01, 2.21715707e-01, 8.38085371e+00, 4.92208869e+01],\n",
       "        [4.22826357e+01, 1.90634065e-01, 7.20596768e+00, 4.23207625e+01],\n",
       "        [4.96361376e+01, 2.23787816e-01, 8.45917944e+00, 4.96808952e+01],\n",
       "        [4.18230419e+01, 1.88561956e-01, 7.12764194e+00, 4.18607542e+01],\n",
       "        [4.32018235e+01, 1.94778284e-01, 7.36261915e+00, 4.32407791e+01],\n",
       "        [2.98736013e+01, 1.34687111e-01, 5.09117281e+00, 2.99005387e+01],\n",
       "        [2.29796933e+01, 1.03605470e-01, 3.91628678e+00, 2.30004144e+01],\n",
       "        [2.48180688e+01, 1.11893908e-01, 4.22958972e+00, 2.48404476e+01],\n",
       "        [2.75756320e+01, 1.24326564e-01, 4.69954414e+00, 2.76004973e+01],\n",
       "        [2.02221301e+01, 9.11728139e-02, 3.44633237e+00, 2.02403647e+01],\n",
       "        [2.06817240e+01, 9.32449233e-02, 3.52465810e+00, 2.07003730e+01],\n",
       "        [1.47070037e+01, 6.63075010e-02, 2.50642354e+00, 1.47202652e+01],\n",
       "        [7.81309573e+00, 3.52258599e-02, 1.33153751e+00, 7.82014090e+00],\n",
       "        [1.01110651e+01, 4.55864070e-02, 1.72316618e+00, 1.01201823e+01],\n",
       "        [1.19494405e+01, 5.38748446e-02, 2.03646913e+00, 1.19602155e+01],\n",
       "        [7.81309573e+00, 3.52258599e-02, 1.33153751e+00, 7.82014090e+00],\n",
       "        [9.19187733e+00, 4.14421881e-02, 1.56651471e+00, 9.20016577e+00],\n",
       "        [5.97472027e+00, 2.69374223e-02, 1.01823456e+00, 5.98010775e+00],\n",
       "        [5.51512640e+00, 2.48653129e-02, 9.39908827e-01, 5.52009946e+00],\n",
       "        [5.05553253e+00, 2.27932035e-02, 8.61583092e-01, 5.06009117e+00],\n",
       "        [3.67675093e+00, 1.65768753e-02, 6.26605885e-01, 3.68006631e+00],\n",
       "        [2.29796933e+00, 1.03605470e-02, 3.91628678e-01, 2.30004144e+00],\n",
       "        [4.59593867e-01, 2.07210941e-03, 7.83257356e-02, 4.60008288e-01],\n",
       "        [4.59593867e-01, 2.07210941e-03, 7.83257356e-02, 4.60008288e-01]]))"
      ]
     },
     "execution_count": 43,
     "metadata": {},
     "output_type": "execute_result"
    }
   ],
   "source": [
    "stats.chi2_contingency(obs_freq)"
   ]
  },
  {
   "cell_type": "code",
   "execution_count": 44,
   "id": "da05cb35",
   "metadata": {},
   "outputs": [],
   "source": [
    "c, p, dof, expected = chi2_contingency(obs_freq)"
   ]
  },
  {
   "cell_type": "code",
   "execution_count": 45,
   "id": "1100a6b7",
   "metadata": {},
   "outputs": [
    {
     "data": {
      "text/plain": [
       "3.087547281383599e-15"
      ]
     },
     "execution_count": 45,
     "metadata": {},
     "output_type": "execute_result"
    }
   ],
   "source": [
    "p"
   ]
  },
  {
   "cell_type": "code",
   "execution_count": 70,
   "id": "218849e8",
   "metadata": {},
   "outputs": [
    {
     "ename": "SyntaxError",
     "evalue": "invalid syntax (<ipython-input-70-5faba3ceeabd>, line 1)",
     "output_type": "error",
     "traceback": [
      "\u001b[1;36m  File \u001b[1;32m\"<ipython-input-70-5faba3ceeabd>\"\u001b[1;36m, line \u001b[1;32m1\u001b[0m\n\u001b[1;33m    Do not reject the null hypothesis\u001b[0m\n\u001b[1;37m           ^\u001b[0m\n\u001b[1;31mSyntaxError\u001b[0m\u001b[1;31m:\u001b[0m invalid syntax\n"
     ]
    }
   ],
   "source": [
    "Do not reject the null hypothesis"
   ]
  },
  {
   "cell_type": "markdown",
   "id": "c4d380fc",
   "metadata": {},
   "source": [
    "### BUSINESS PROBLEM-2: "
   ]
  },
  {
   "cell_type": "code",
   "execution_count": null,
   "id": "9d03d7cd",
   "metadata": {},
   "outputs": [],
   "source": [
    "##BUSINESS PROBLEM: We would like to assess if there is any difference in the average\n",
    "#price quotes provided by Mary and Barry. "
   ]
  },
  {
   "cell_type": "code",
   "execution_count": 46,
   "id": "e3e9a047",
   "metadata": {},
   "outputs": [
    {
     "data": {
      "text/plain": [
       "Order_Number    int64\n",
       "Barry_Price     int64\n",
       "Mary_Price      int64\n",
       "dtype: object"
      ]
     },
     "execution_count": 46,
     "metadata": {},
     "output_type": "execute_result"
    }
   ],
   "source": [
    "price_quotes.dtypes"
   ]
  },
  {
   "cell_type": "code",
   "execution_count": 47,
   "id": "d8840ba5",
   "metadata": {},
   "outputs": [
    {
     "data": {
      "text/html": [
       "<div>\n",
       "<style scoped>\n",
       "    .dataframe tbody tr th:only-of-type {\n",
       "        vertical-align: middle;\n",
       "    }\n",
       "\n",
       "    .dataframe tbody tr th {\n",
       "        vertical-align: top;\n",
       "    }\n",
       "\n",
       "    .dataframe thead th {\n",
       "        text-align: right;\n",
       "    }\n",
       "</style>\n",
       "<table border=\"1\" class=\"dataframe\">\n",
       "  <thead>\n",
       "    <tr style=\"text-align: right;\">\n",
       "      <th></th>\n",
       "      <th>Order_Number</th>\n",
       "      <th>Barry_Price</th>\n",
       "      <th>Mary_Price</th>\n",
       "    </tr>\n",
       "  </thead>\n",
       "  <tbody>\n",
       "    <tr>\n",
       "      <th>0</th>\n",
       "      <td>1</td>\n",
       "      <td>126</td>\n",
       "      <td>114</td>\n",
       "    </tr>\n",
       "    <tr>\n",
       "      <th>1</th>\n",
       "      <td>2</td>\n",
       "      <td>110</td>\n",
       "      <td>118</td>\n",
       "    </tr>\n",
       "    <tr>\n",
       "      <th>2</th>\n",
       "      <td>3</td>\n",
       "      <td>138</td>\n",
       "      <td>114</td>\n",
       "    </tr>\n",
       "    <tr>\n",
       "      <th>3</th>\n",
       "      <td>4</td>\n",
       "      <td>142</td>\n",
       "      <td>111</td>\n",
       "    </tr>\n",
       "    <tr>\n",
       "      <th>4</th>\n",
       "      <td>5</td>\n",
       "      <td>146</td>\n",
       "      <td>129</td>\n",
       "    </tr>\n",
       "  </tbody>\n",
       "</table>\n",
       "</div>"
      ],
      "text/plain": [
       "   Order_Number  Barry_Price  Mary_Price\n",
       "0             1          126         114\n",
       "1             2          110         118\n",
       "2             3          138         114\n",
       "3             4          142         111\n",
       "4             5          146         129"
      ]
     },
     "execution_count": 47,
     "metadata": {},
     "output_type": "execute_result"
    }
   ],
   "source": [
    "price_quotes.head()"
   ]
  },
  {
   "cell_type": "code",
   "execution_count": 48,
   "id": "9034b9a3",
   "metadata": {},
   "outputs": [
    {
     "name": "stdout",
     "output_type": "stream",
     "text": [
      "<class 'pandas.core.frame.DataFrame'>\n",
      "RangeIndex: 12 entries, 0 to 11\n",
      "Data columns (total 3 columns):\n",
      " #   Column        Non-Null Count  Dtype\n",
      "---  ------        --------------  -----\n",
      " 0   Order_Number  12 non-null     int64\n",
      " 1   Barry_Price   12 non-null     int64\n",
      " 2   Mary_Price    12 non-null     int64\n",
      "dtypes: int64(3)\n",
      "memory usage: 416.0 bytes\n"
     ]
    }
   ],
   "source": [
    "price_quotes.info()"
   ]
  },
  {
   "cell_type": "code",
   "execution_count": 49,
   "id": "61ddf58c",
   "metadata": {},
   "outputs": [
    {
     "data": {
      "text/plain": [
       "Order_Number    0\n",
       "Barry_Price     0\n",
       "Mary_Price      0\n",
       "dtype: int64"
      ]
     },
     "execution_count": 49,
     "metadata": {},
     "output_type": "execute_result"
    }
   ],
   "source": [
    "price_quotes.isnull().sum()"
   ]
  },
  {
   "cell_type": "code",
   "execution_count": null,
   "id": "5f2a4823",
   "metadata": {},
   "outputs": [],
   "source": [
    "h0-there is not diffrence in price quotes\n",
    "ha- there is a diffrence in price quotes"
   ]
  },
  {
   "cell_type": "code",
   "execution_count": null,
   "id": "61c19b90",
   "metadata": {},
   "outputs": [],
   "source": [
    "CI - 95%\n",
    "p - 0.05"
   ]
  },
  {
   "cell_type": "code",
   "execution_count": 50,
   "id": "f98087eb",
   "metadata": {},
   "outputs": [
    {
     "data": {
      "text/plain": [
       "12"
      ]
     },
     "execution_count": 50,
     "metadata": {},
     "output_type": "execute_result"
    }
   ],
   "source": [
    "price_quotes.shape[0]"
   ]
  },
  {
   "cell_type": "code",
   "execution_count": 51,
   "id": "3c6c85f4",
   "metadata": {},
   "outputs": [
    {
     "data": {
      "text/plain": [
       "Ttest_indResult(statistic=1.4147436739281787, pvalue=0.17114226132118285)"
      ]
     },
     "execution_count": 51,
     "metadata": {},
     "output_type": "execute_result"
    }
   ],
   "source": [
    "stats.ttest_ind(price_quotes.Barry_Price,price_quotes.Mary_Price)"
   ]
  },
  {
   "cell_type": "code",
   "execution_count": null,
   "id": "5af35e70",
   "metadata": {},
   "outputs": [],
   "source": [
    "Null hypothesis does not hold"
   ]
  },
  {
   "cell_type": "code",
   "execution_count": 52,
   "id": "7cad4042",
   "metadata": {},
   "outputs": [
    {
     "name": "stdout",
     "output_type": "stream",
     "text": [
      "mean Barry: 124.33333333333333 | mean Mary: 114.75\n"
     ]
    }
   ],
   "source": [
    "print( 'mean Barry:', price_quotes.Barry_Price.mean(), '| mean Mary:', price_quotes.Mary_Price.mean())"
   ]
  },
  {
   "cell_type": "code",
   "execution_count": null,
   "id": "b0c5e891",
   "metadata": {},
   "outputs": [],
   "source": [
    "There is a difference"
   ]
  },
  {
   "cell_type": "code",
   "execution_count": null,
   "id": "7de5381a",
   "metadata": {},
   "outputs": [],
   "source": []
  },
  {
   "cell_type": "markdown",
   "id": "d0cbf564",
   "metadata": {},
   "source": [
    "### BUSINESS PROBLEM-3: "
   ]
  },
  {
   "cell_type": "code",
   "execution_count": 7,
   "id": "730dedbc",
   "metadata": {},
   "outputs": [
    {
     "data": {
      "text/plain": [
       "Month                  int64\n",
       "Reengineer            object\n",
       "Employee_Turnover    float64\n",
       "VAR4                 float64\n",
       "VAR5                 float64\n",
       "dtype: object"
      ]
     },
     "execution_count": 7,
     "metadata": {},
     "output_type": "execute_result"
    }
   ],
   "source": [
    "Treatment_Facility.dtypes"
   ]
  },
  {
   "cell_type": "code",
   "execution_count": 8,
   "id": "c0abede5",
   "metadata": {},
   "outputs": [
    {
     "data": {
      "text/html": [
       "<div>\n",
       "<style scoped>\n",
       "    .dataframe tbody tr th:only-of-type {\n",
       "        vertical-align: middle;\n",
       "    }\n",
       "\n",
       "    .dataframe tbody tr th {\n",
       "        vertical-align: top;\n",
       "    }\n",
       "\n",
       "    .dataframe thead th {\n",
       "        text-align: right;\n",
       "    }\n",
       "</style>\n",
       "<table border=\"1\" class=\"dataframe\">\n",
       "  <thead>\n",
       "    <tr style=\"text-align: right;\">\n",
       "      <th></th>\n",
       "      <th>Month</th>\n",
       "      <th>Reengineer</th>\n",
       "      <th>Employee_Turnover</th>\n",
       "      <th>VAR4</th>\n",
       "      <th>VAR5</th>\n",
       "    </tr>\n",
       "  </thead>\n",
       "  <tbody>\n",
       "    <tr>\n",
       "      <th>0</th>\n",
       "      <td>1</td>\n",
       "      <td>Prior</td>\n",
       "      <td>0.0000</td>\n",
       "      <td>24.390244</td>\n",
       "      <td>42.682927</td>\n",
       "    </tr>\n",
       "    <tr>\n",
       "      <th>1</th>\n",
       "      <td>2</td>\n",
       "      <td>Prior</td>\n",
       "      <td>6.0606</td>\n",
       "      <td>19.354839</td>\n",
       "      <td>25.806452</td>\n",
       "    </tr>\n",
       "    <tr>\n",
       "      <th>2</th>\n",
       "      <td>3</td>\n",
       "      <td>Prior</td>\n",
       "      <td>12.1212</td>\n",
       "      <td>35.087719</td>\n",
       "      <td>146.198830</td>\n",
       "    </tr>\n",
       "    <tr>\n",
       "      <th>3</th>\n",
       "      <td>4</td>\n",
       "      <td>Prior</td>\n",
       "      <td>3.3333</td>\n",
       "      <td>18.404908</td>\n",
       "      <td>110.429448</td>\n",
       "    </tr>\n",
       "    <tr>\n",
       "      <th>4</th>\n",
       "      <td>5</td>\n",
       "      <td>Prior</td>\n",
       "      <td>12.9032</td>\n",
       "      <td>17.964072</td>\n",
       "      <td>23.952096</td>\n",
       "    </tr>\n",
       "  </tbody>\n",
       "</table>\n",
       "</div>"
      ],
      "text/plain": [
       "   Month Reengineer  Employee_Turnover       VAR4        VAR5\n",
       "0      1      Prior             0.0000  24.390244   42.682927\n",
       "1      2      Prior             6.0606  19.354839   25.806452\n",
       "2      3      Prior            12.1212  35.087719  146.198830\n",
       "3      4      Prior             3.3333  18.404908  110.429448\n",
       "4      5      Prior            12.9032  17.964072   23.952096"
      ]
     },
     "execution_count": 8,
     "metadata": {},
     "output_type": "execute_result"
    }
   ],
   "source": [
    "Treatment_Facility.head()"
   ]
  },
  {
   "cell_type": "code",
   "execution_count": 9,
   "id": "b8b9532f",
   "metadata": {},
   "outputs": [
    {
     "name": "stdout",
     "output_type": "stream",
     "text": [
      "<class 'pandas.core.frame.DataFrame'>\n",
      "RangeIndex: 20 entries, 0 to 19\n",
      "Data columns (total 5 columns):\n",
      " #   Column             Non-Null Count  Dtype  \n",
      "---  ------             --------------  -----  \n",
      " 0   Month              20 non-null     int64  \n",
      " 1   Reengineer         20 non-null     object \n",
      " 2   Employee_Turnover  20 non-null     float64\n",
      " 3   VAR4               20 non-null     float64\n",
      " 4   VAR5               20 non-null     float64\n",
      "dtypes: float64(3), int64(1), object(1)\n",
      "memory usage: 928.0+ bytes\n"
     ]
    }
   ],
   "source": [
    "Treatment_Facility.info()"
   ]
  },
  {
   "cell_type": "code",
   "execution_count": 10,
   "id": "d21ada31",
   "metadata": {},
   "outputs": [
    {
     "data": {
      "text/plain": [
       "Month                0\n",
       "Reengineer           0\n",
       "Employee_Turnover    0\n",
       "VAR4                 0\n",
       "VAR5                 0\n",
       "dtype: int64"
      ]
     },
     "execution_count": 10,
     "metadata": {},
     "output_type": "execute_result"
    }
   ],
   "source": [
    "Treatment_Facility.isna().sum()"
   ]
  },
  {
   "cell_type": "code",
   "execution_count": 11,
   "id": "8c9c75c0",
   "metadata": {},
   "outputs": [],
   "source": [
    "Treatment_Facility.rename(columns={'VAR4':'TRFF','VAR5':'CI'},inplace=True)"
   ]
  },
  {
   "cell_type": "code",
   "execution_count": 12,
   "id": "29f14460",
   "metadata": {},
   "outputs": [
    {
     "data": {
      "text/html": [
       "<div>\n",
       "<style scoped>\n",
       "    .dataframe tbody tr th:only-of-type {\n",
       "        vertical-align: middle;\n",
       "    }\n",
       "\n",
       "    .dataframe tbody tr th {\n",
       "        vertical-align: top;\n",
       "    }\n",
       "\n",
       "    .dataframe thead th {\n",
       "        text-align: right;\n",
       "    }\n",
       "</style>\n",
       "<table border=\"1\" class=\"dataframe\">\n",
       "  <thead>\n",
       "    <tr style=\"text-align: right;\">\n",
       "      <th></th>\n",
       "      <th>Month</th>\n",
       "      <th>Reengineer</th>\n",
       "      <th>Employee_Turnover</th>\n",
       "      <th>TRFF</th>\n",
       "      <th>CI</th>\n",
       "    </tr>\n",
       "  </thead>\n",
       "  <tbody>\n",
       "    <tr>\n",
       "      <th>0</th>\n",
       "      <td>1</td>\n",
       "      <td>Prior</td>\n",
       "      <td>0.0000</td>\n",
       "      <td>24.390244</td>\n",
       "      <td>42.682927</td>\n",
       "    </tr>\n",
       "    <tr>\n",
       "      <th>1</th>\n",
       "      <td>2</td>\n",
       "      <td>Prior</td>\n",
       "      <td>6.0606</td>\n",
       "      <td>19.354839</td>\n",
       "      <td>25.806452</td>\n",
       "    </tr>\n",
       "    <tr>\n",
       "      <th>2</th>\n",
       "      <td>3</td>\n",
       "      <td>Prior</td>\n",
       "      <td>12.1212</td>\n",
       "      <td>35.087719</td>\n",
       "      <td>146.198830</td>\n",
       "    </tr>\n",
       "    <tr>\n",
       "      <th>3</th>\n",
       "      <td>4</td>\n",
       "      <td>Prior</td>\n",
       "      <td>3.3333</td>\n",
       "      <td>18.404908</td>\n",
       "      <td>110.429448</td>\n",
       "    </tr>\n",
       "    <tr>\n",
       "      <th>4</th>\n",
       "      <td>5</td>\n",
       "      <td>Prior</td>\n",
       "      <td>12.9032</td>\n",
       "      <td>17.964072</td>\n",
       "      <td>23.952096</td>\n",
       "    </tr>\n",
       "  </tbody>\n",
       "</table>\n",
       "</div>"
      ],
      "text/plain": [
       "   Month Reengineer  Employee_Turnover       TRFF          CI\n",
       "0      1      Prior             0.0000  24.390244   42.682927\n",
       "1      2      Prior             6.0606  19.354839   25.806452\n",
       "2      3      Prior            12.1212  35.087719  146.198830\n",
       "3      4      Prior             3.3333  18.404908  110.429448\n",
       "4      5      Prior            12.9032  17.964072   23.952096"
      ]
     },
     "execution_count": 12,
     "metadata": {},
     "output_type": "execute_result"
    }
   ],
   "source": [
    "Treatment_Facility.head()"
   ]
  },
  {
   "cell_type": "code",
   "execution_count": null,
   "id": "58fddc64",
   "metadata": {},
   "outputs": [],
   "source": [
    "h0- Critical incidence rate has not been improved\n",
    "ha- Critical incidence rate has improved\n",
    "CI - 95%\n",
    "p - 0.05"
   ]
  },
  {
   "cell_type": "code",
   "execution_count": 13,
   "id": "48de16df",
   "metadata": {},
   "outputs": [
    {
     "data": {
      "text/plain": [
       "SpearmanrResult(correlation=0.31814238148788887, pvalue=0.17162678189523084)"
      ]
     },
     "execution_count": 13,
     "metadata": {},
     "output_type": "execute_result"
    }
   ],
   "source": [
    "stats.spearmanr(Treatment_Facility.Reengineer,Treatment_Facility.CI)"
   ]
  },
  {
   "cell_type": "code",
   "execution_count": null,
   "id": "172d280c",
   "metadata": {},
   "outputs": [],
   "source": [
    "Donot accept the null hypothesis"
   ]
  },
  {
   "cell_type": "markdown",
   "id": "a2141357",
   "metadata": {},
   "source": [
    "### BUSINESS PROBLEM-4 "
   ]
  },
  {
   "cell_type": "code",
   "execution_count": 7,
   "id": "fa4cdb3d",
   "metadata": {},
   "outputs": [
    {
     "data": {
      "text/plain": [
       "Days        float64\n",
       "Priority     object\n",
       "dtype: object"
      ]
     },
     "execution_count": 7,
     "metadata": {},
     "output_type": "execute_result"
    }
   ],
   "source": [
    "Priority_Assessment.dtypes"
   ]
  },
  {
   "cell_type": "code",
   "execution_count": 8,
   "id": "167d80dd",
   "metadata": {},
   "outputs": [
    {
     "data": {
      "text/html": [
       "<div>\n",
       "<style scoped>\n",
       "    .dataframe tbody tr th:only-of-type {\n",
       "        vertical-align: middle;\n",
       "    }\n",
       "\n",
       "    .dataframe tbody tr th {\n",
       "        vertical-align: top;\n",
       "    }\n",
       "\n",
       "    .dataframe thead th {\n",
       "        text-align: right;\n",
       "    }\n",
       "</style>\n",
       "<table border=\"1\" class=\"dataframe\">\n",
       "  <thead>\n",
       "    <tr style=\"text-align: right;\">\n",
       "      <th></th>\n",
       "      <th>Days</th>\n",
       "      <th>Priority</th>\n",
       "    </tr>\n",
       "  </thead>\n",
       "  <tbody>\n",
       "    <tr>\n",
       "      <th>0</th>\n",
       "      <td>3.3</td>\n",
       "      <td>High</td>\n",
       "    </tr>\n",
       "    <tr>\n",
       "      <th>1</th>\n",
       "      <td>7.9</td>\n",
       "      <td>Medium</td>\n",
       "    </tr>\n",
       "    <tr>\n",
       "      <th>2</th>\n",
       "      <td>0.3</td>\n",
       "      <td>High</td>\n",
       "    </tr>\n",
       "    <tr>\n",
       "      <th>3</th>\n",
       "      <td>0.7</td>\n",
       "      <td>Medium</td>\n",
       "    </tr>\n",
       "    <tr>\n",
       "      <th>4</th>\n",
       "      <td>8.6</td>\n",
       "      <td>Medium</td>\n",
       "    </tr>\n",
       "  </tbody>\n",
       "</table>\n",
       "</div>"
      ],
      "text/plain": [
       "   Days Priority\n",
       "0   3.3     High\n",
       "1   7.9   Medium\n",
       "2   0.3     High\n",
       "3   0.7   Medium\n",
       "4   8.6   Medium"
      ]
     },
     "execution_count": 8,
     "metadata": {},
     "output_type": "execute_result"
    }
   ],
   "source": [
    "Priority_Assessment.head()"
   ]
  },
  {
   "cell_type": "code",
   "execution_count": 9,
   "id": "4822d8c5",
   "metadata": {},
   "outputs": [
    {
     "name": "stdout",
     "output_type": "stream",
     "text": [
      "<class 'pandas.core.frame.DataFrame'>\n",
      "RangeIndex: 642 entries, 0 to 641\n",
      "Data columns (total 2 columns):\n",
      " #   Column    Non-Null Count  Dtype  \n",
      "---  ------    --------------  -----  \n",
      " 0   Days      642 non-null    float64\n",
      " 1   Priority  642 non-null    object \n",
      "dtypes: float64(1), object(1)\n",
      "memory usage: 10.2+ KB\n"
     ]
    }
   ],
   "source": [
    "Priority_Assessment.info()"
   ]
  },
  {
   "cell_type": "code",
   "execution_count": 11,
   "id": "ec53726c",
   "metadata": {},
   "outputs": [
    {
     "data": {
      "text/plain": [
       "Days        0\n",
       "Priority    0\n",
       "dtype: int64"
      ]
     },
     "execution_count": 11,
     "metadata": {},
     "output_type": "execute_result"
    }
   ],
   "source": [
    "Priority_Assessment.isnull().sum()"
   ]
  },
  {
   "cell_type": "code",
   "execution_count": null,
   "id": "f9596891",
   "metadata": {},
   "outputs": [],
   "source": [
    "h0- Jobs are getting not done by system\n",
    "ha- Jobs are getting done by system\n",
    "CI - 95%\n",
    "p - 0.05"
   ]
  },
  {
   "cell_type": "code",
   "execution_count": 13,
   "id": "069713f9",
   "metadata": {},
   "outputs": [
    {
     "name": "stdout",
     "output_type": "stream",
     "text": [
      "Priority  High  Low  Medium\n",
      "Days                       \n",
      "0.1         55    5      29\n",
      "0.2         49    5      47\n",
      "0.3         34   12      33\n",
      "0.4          9    2      11\n",
      "0.5         11    3       7\n",
      "...        ...  ...     ...\n",
      "33.2         0    0       1\n",
      "34.8         1    0       0\n",
      "62.7         1    0       0\n",
      "66.6         1    0       0\n",
      "72.9         1    0       0\n",
      "\n",
      "[121 rows x 3 columns]\n"
     ]
    }
   ],
   "source": [
    "obs_freq1 = pd.crosstab( Priority_Assessment.Days,Priority_Assessment.Priority)\n",
    "print(obs_freq1)"
   ]
  },
  {
   "cell_type": "code",
   "execution_count": 14,
   "id": "787aa4d8",
   "metadata": {},
   "outputs": [
    {
     "data": {
      "text/plain": [
       "SpearmanrResult(correlation=0.017913791551236326, pvalue=0.6505153120156153)"
      ]
     },
     "execution_count": 14,
     "metadata": {},
     "output_type": "execute_result"
    }
   ],
   "source": [
    "stats.spearmanr(Priority_Assessment.Days,Priority_Assessment.Priority)"
   ]
  },
  {
   "cell_type": "code",
   "execution_count": 15,
   "id": "a5c1b1d0",
   "metadata": {},
   "outputs": [
    {
     "ename": "SyntaxError",
     "evalue": "invalid syntax (<ipython-input-15-e2fe2b3b5949>, line 1)",
     "output_type": "error",
     "traceback": [
      "\u001b[1;36m  File \u001b[1;32m\"<ipython-input-15-e2fe2b3b5949>\"\u001b[1;36m, line \u001b[1;32m1\u001b[0m\n\u001b[1;33m    we fail to reject the null hypothesis\u001b[0m\n\u001b[1;37m       ^\u001b[0m\n\u001b[1;31mSyntaxError\u001b[0m\u001b[1;31m:\u001b[0m invalid syntax\n"
     ]
    }
   ],
   "source": [
    "we fail to reject the null hypothesis"
   ]
  },
  {
   "cell_type": "markdown",
   "id": "676f4a78",
   "metadata": {},
   "source": [
    "### BUSINESS PROBLEM-5 "
   ]
  },
  {
   "cell_type": "code",
   "execution_count": 3,
   "id": "dab23b9c",
   "metadata": {},
   "outputs": [
    {
     "data": {
      "text/plain": [
       "_rowstate_          int64\n",
       "Movie              object\n",
       "Gender             object\n",
       "Marital_Status     object\n",
       "Sinage            float64\n",
       "Parking           float64\n",
       "Clean             float64\n",
       "Overall           float64\n",
       "Age               float64\n",
       "Income            float64\n",
       "Hear_About         object\n",
       "dtype: object"
      ]
     },
     "execution_count": 3,
     "metadata": {},
     "output_type": "execute_result"
    }
   ],
   "source": [
    "films.dtypes"
   ]
  },
  {
   "cell_type": "code",
   "execution_count": 4,
   "id": "c28f7a39",
   "metadata": {},
   "outputs": [
    {
     "name": "stdout",
     "output_type": "stream",
     "text": [
      "<class 'pandas.core.frame.DataFrame'>\n",
      "RangeIndex: 330 entries, 0 to 329\n",
      "Data columns (total 11 columns):\n",
      " #   Column          Non-Null Count  Dtype  \n",
      "---  ------          --------------  -----  \n",
      " 0   _rowstate_      330 non-null    int64  \n",
      " 1   Movie           330 non-null    object \n",
      " 2   Gender          330 non-null    object \n",
      " 3   Marital_Status  328 non-null    object \n",
      " 4   Sinage          328 non-null    float64\n",
      " 5   Parking         328 non-null    float64\n",
      " 6   Clean           327 non-null    float64\n",
      " 7   Overall         328 non-null    float64\n",
      " 8   Age             328 non-null    float64\n",
      " 9   Income          314 non-null    float64\n",
      " 10  Hear_About      323 non-null    object \n",
      "dtypes: float64(6), int64(1), object(4)\n",
      "memory usage: 28.5+ KB\n"
     ]
    }
   ],
   "source": [
    "films.info()"
   ]
  },
  {
   "cell_type": "code",
   "execution_count": 5,
   "id": "aeb013df",
   "metadata": {},
   "outputs": [
    {
     "data": {
      "text/html": [
       "<div>\n",
       "<style scoped>\n",
       "    .dataframe tbody tr th:only-of-type {\n",
       "        vertical-align: middle;\n",
       "    }\n",
       "\n",
       "    .dataframe tbody tr th {\n",
       "        vertical-align: top;\n",
       "    }\n",
       "\n",
       "    .dataframe thead th {\n",
       "        text-align: right;\n",
       "    }\n",
       "</style>\n",
       "<table border=\"1\" class=\"dataframe\">\n",
       "  <thead>\n",
       "    <tr style=\"text-align: right;\">\n",
       "      <th></th>\n",
       "      <th>_rowstate_</th>\n",
       "      <th>Movie</th>\n",
       "      <th>Gender</th>\n",
       "      <th>Marital_Status</th>\n",
       "      <th>Sinage</th>\n",
       "      <th>Parking</th>\n",
       "      <th>Clean</th>\n",
       "      <th>Overall</th>\n",
       "      <th>Age</th>\n",
       "      <th>Income</th>\n",
       "      <th>Hear_About</th>\n",
       "    </tr>\n",
       "  </thead>\n",
       "  <tbody>\n",
       "    <tr>\n",
       "      <th>0</th>\n",
       "      <td>0</td>\n",
       "      <td>Ferris Buellers Day Off</td>\n",
       "      <td>Female</td>\n",
       "      <td>Married</td>\n",
       "      <td>2.0</td>\n",
       "      <td>2.0</td>\n",
       "      <td>2.0</td>\n",
       "      <td>2.0</td>\n",
       "      <td>3.0</td>\n",
       "      <td>1.0</td>\n",
       "      <td>5</td>\n",
       "    </tr>\n",
       "    <tr>\n",
       "      <th>1</th>\n",
       "      <td>0</td>\n",
       "      <td>Ferris Buellers Day Off</td>\n",
       "      <td>Female</td>\n",
       "      <td>Single</td>\n",
       "      <td>1.0</td>\n",
       "      <td>1.0</td>\n",
       "      <td>1.0</td>\n",
       "      <td>1.0</td>\n",
       "      <td>2.0</td>\n",
       "      <td>1.0</td>\n",
       "      <td>5</td>\n",
       "    </tr>\n",
       "    <tr>\n",
       "      <th>2</th>\n",
       "      <td>0</td>\n",
       "      <td>Ferris Buellers Day Off</td>\n",
       "      <td>Male</td>\n",
       "      <td>Married</td>\n",
       "      <td>2.0</td>\n",
       "      <td>4.0</td>\n",
       "      <td>3.0</td>\n",
       "      <td>2.0</td>\n",
       "      <td>4.0</td>\n",
       "      <td>1.0</td>\n",
       "      <td>5</td>\n",
       "    </tr>\n",
       "    <tr>\n",
       "      <th>3</th>\n",
       "      <td>0</td>\n",
       "      <td>Ferris Buellers Day Off</td>\n",
       "      <td>Female</td>\n",
       "      <td>Married</td>\n",
       "      <td>1.0</td>\n",
       "      <td>3.0</td>\n",
       "      <td>2.0</td>\n",
       "      <td>2.0</td>\n",
       "      <td>4.0</td>\n",
       "      <td>1.0</td>\n",
       "      <td>5</td>\n",
       "    </tr>\n",
       "    <tr>\n",
       "      <th>4</th>\n",
       "      <td>0</td>\n",
       "      <td>Ferris Buellers Day Off</td>\n",
       "      <td>Female</td>\n",
       "      <td>Married</td>\n",
       "      <td>1.0</td>\n",
       "      <td>1.0</td>\n",
       "      <td>1.0</td>\n",
       "      <td>1.0</td>\n",
       "      <td>3.0</td>\n",
       "      <td>3.0</td>\n",
       "      <td>1</td>\n",
       "    </tr>\n",
       "  </tbody>\n",
       "</table>\n",
       "</div>"
      ],
      "text/plain": [
       "   _rowstate_                    Movie  Gender Marital_Status  Sinage  \\\n",
       "0           0  Ferris Buellers Day Off  Female        Married     2.0   \n",
       "1           0  Ferris Buellers Day Off  Female         Single     1.0   \n",
       "2           0  Ferris Buellers Day Off    Male        Married     2.0   \n",
       "3           0  Ferris Buellers Day Off  Female        Married     1.0   \n",
       "4           0  Ferris Buellers Day Off  Female        Married     1.0   \n",
       "\n",
       "   Parking  Clean  Overall  Age  Income Hear_About  \n",
       "0      2.0    2.0      2.0  3.0     1.0          5  \n",
       "1      1.0    1.0      1.0  2.0     1.0          5  \n",
       "2      4.0    3.0      2.0  4.0     1.0          5  \n",
       "3      3.0    2.0      2.0  4.0     1.0          5  \n",
       "4      1.0    1.0      1.0  3.0     3.0          1  "
      ]
     },
     "execution_count": 5,
     "metadata": {},
     "output_type": "execute_result"
    }
   ],
   "source": [
    "films.head()"
   ]
  },
  {
   "cell_type": "code",
   "execution_count": 6,
   "id": "2f24c860",
   "metadata": {},
   "outputs": [
    {
     "data": {
      "text/plain": [
       "_rowstate_         0\n",
       "Movie              0\n",
       "Gender             0\n",
       "Marital_Status     2\n",
       "Sinage             2\n",
       "Parking            2\n",
       "Clean              3\n",
       "Overall            2\n",
       "Age                2\n",
       "Income            16\n",
       "Hear_About         7\n",
       "dtype: int64"
      ]
     },
     "execution_count": 6,
     "metadata": {},
     "output_type": "execute_result"
    }
   ],
   "source": [
    "films.isna().sum()"
   ]
  },
  {
   "cell_type": "code",
   "execution_count": 7,
   "id": "754b83a4",
   "metadata": {},
   "outputs": [],
   "source": [
    "films=films.dropna(axis = 0, how ='any')"
   ]
  },
  {
   "cell_type": "code",
   "execution_count": 8,
   "id": "a489497b",
   "metadata": {},
   "outputs": [
    {
     "data": {
      "text/plain": [
       "_rowstate_        0\n",
       "Movie             0\n",
       "Gender            0\n",
       "Marital_Status    0\n",
       "Sinage            0\n",
       "Parking           0\n",
       "Clean             0\n",
       "Overall           0\n",
       "Age               0\n",
       "Income            0\n",
       "Hear_About        0\n",
       "dtype: int64"
      ]
     },
     "execution_count": 8,
     "metadata": {},
     "output_type": "execute_result"
    }
   ],
   "source": [
    "films.isna().sum()"
   ]
  },
  {
   "cell_type": "code",
   "execution_count": 9,
   "id": "9a402888",
   "metadata": {},
   "outputs": [
    {
     "name": "stdout",
     "output_type": "stream",
     "text": [
      "<class 'pandas.core.frame.DataFrame'>\n",
      "Int64Index: 301 entries, 0 to 329\n",
      "Data columns (total 11 columns):\n",
      " #   Column          Non-Null Count  Dtype  \n",
      "---  ------          --------------  -----  \n",
      " 0   _rowstate_      301 non-null    int64  \n",
      " 1   Movie           301 non-null    object \n",
      " 2   Gender          301 non-null    object \n",
      " 3   Marital_Status  301 non-null    object \n",
      " 4   Sinage          301 non-null    float64\n",
      " 5   Parking         301 non-null    float64\n",
      " 6   Clean           301 non-null    float64\n",
      " 7   Overall         301 non-null    float64\n",
      " 8   Age             301 non-null    float64\n",
      " 9   Income          301 non-null    float64\n",
      " 10  Hear_About      301 non-null    object \n",
      "dtypes: float64(6), int64(1), object(4)\n",
      "memory usage: 28.2+ KB\n"
     ]
    }
   ],
   "source": [
    "films.info()"
   ]
  },
  {
   "cell_type": "code",
   "execution_count": 10,
   "id": "ceffeb31",
   "metadata": {},
   "outputs": [],
   "source": [
    "###  What is the overall level of customer satisfaction? "
   ]
  },
  {
   "cell_type": "code",
   "execution_count": 11,
   "id": "237f068f",
   "metadata": {},
   "outputs": [
    {
     "data": {
      "text/html": [
       "<div>\n",
       "<style scoped>\n",
       "    .dataframe tbody tr th:only-of-type {\n",
       "        vertical-align: middle;\n",
       "    }\n",
       "\n",
       "    .dataframe tbody tr th {\n",
       "        vertical-align: top;\n",
       "    }\n",
       "\n",
       "    .dataframe thead th {\n",
       "        text-align: right;\n",
       "    }\n",
       "</style>\n",
       "<table border=\"1\" class=\"dataframe\">\n",
       "  <thead>\n",
       "    <tr style=\"text-align: right;\">\n",
       "      <th></th>\n",
       "      <th>_rowstate_</th>\n",
       "      <th>Movie</th>\n",
       "      <th>Gender</th>\n",
       "      <th>Marital_Status</th>\n",
       "      <th>Sinage</th>\n",
       "      <th>Parking</th>\n",
       "      <th>Clean</th>\n",
       "      <th>Overall</th>\n",
       "      <th>Age</th>\n",
       "      <th>Income</th>\n",
       "      <th>Hear_About</th>\n",
       "    </tr>\n",
       "  </thead>\n",
       "  <tbody>\n",
       "    <tr>\n",
       "      <th>0</th>\n",
       "      <td>0</td>\n",
       "      <td>Ferris Buellers Day Off</td>\n",
       "      <td>Female</td>\n",
       "      <td>Married</td>\n",
       "      <td>2.0</td>\n",
       "      <td>2.0</td>\n",
       "      <td>2.0</td>\n",
       "      <td>2.0</td>\n",
       "      <td>3.0</td>\n",
       "      <td>1.0</td>\n",
       "      <td>5</td>\n",
       "    </tr>\n",
       "    <tr>\n",
       "      <th>1</th>\n",
       "      <td>0</td>\n",
       "      <td>Ferris Buellers Day Off</td>\n",
       "      <td>Female</td>\n",
       "      <td>Single</td>\n",
       "      <td>1.0</td>\n",
       "      <td>1.0</td>\n",
       "      <td>1.0</td>\n",
       "      <td>1.0</td>\n",
       "      <td>2.0</td>\n",
       "      <td>1.0</td>\n",
       "      <td>5</td>\n",
       "    </tr>\n",
       "    <tr>\n",
       "      <th>2</th>\n",
       "      <td>0</td>\n",
       "      <td>Ferris Buellers Day Off</td>\n",
       "      <td>Male</td>\n",
       "      <td>Married</td>\n",
       "      <td>2.0</td>\n",
       "      <td>4.0</td>\n",
       "      <td>3.0</td>\n",
       "      <td>2.0</td>\n",
       "      <td>4.0</td>\n",
       "      <td>1.0</td>\n",
       "      <td>5</td>\n",
       "    </tr>\n",
       "    <tr>\n",
       "      <th>3</th>\n",
       "      <td>0</td>\n",
       "      <td>Ferris Buellers Day Off</td>\n",
       "      <td>Female</td>\n",
       "      <td>Married</td>\n",
       "      <td>1.0</td>\n",
       "      <td>3.0</td>\n",
       "      <td>2.0</td>\n",
       "      <td>2.0</td>\n",
       "      <td>4.0</td>\n",
       "      <td>1.0</td>\n",
       "      <td>5</td>\n",
       "    </tr>\n",
       "    <tr>\n",
       "      <th>4</th>\n",
       "      <td>0</td>\n",
       "      <td>Ferris Buellers Day Off</td>\n",
       "      <td>Female</td>\n",
       "      <td>Married</td>\n",
       "      <td>1.0</td>\n",
       "      <td>1.0</td>\n",
       "      <td>1.0</td>\n",
       "      <td>1.0</td>\n",
       "      <td>3.0</td>\n",
       "      <td>3.0</td>\n",
       "      <td>1</td>\n",
       "    </tr>\n",
       "  </tbody>\n",
       "</table>\n",
       "</div>"
      ],
      "text/plain": [
       "   _rowstate_                    Movie  Gender Marital_Status  Sinage  \\\n",
       "0           0  Ferris Buellers Day Off  Female        Married     2.0   \n",
       "1           0  Ferris Buellers Day Off  Female         Single     1.0   \n",
       "2           0  Ferris Buellers Day Off    Male        Married     2.0   \n",
       "3           0  Ferris Buellers Day Off  Female        Married     1.0   \n",
       "4           0  Ferris Buellers Day Off  Female        Married     1.0   \n",
       "\n",
       "   Parking  Clean  Overall  Age  Income Hear_About  \n",
       "0      2.0    2.0      2.0  3.0     1.0          5  \n",
       "1      1.0    1.0      1.0  2.0     1.0          5  \n",
       "2      4.0    3.0      2.0  4.0     1.0          5  \n",
       "3      3.0    2.0      2.0  4.0     1.0          5  \n",
       "4      1.0    1.0      1.0  3.0     3.0          1  "
      ]
     },
     "execution_count": 11,
     "metadata": {},
     "output_type": "execute_result"
    }
   ],
   "source": [
    "films.head()"
   ]
  },
  {
   "cell_type": "code",
   "execution_count": 59,
   "id": "2257e28b",
   "metadata": {},
   "outputs": [
    {
     "data": {
      "text/html": [
       "<div>\n",
       "<style scoped>\n",
       "    .dataframe tbody tr th:only-of-type {\n",
       "        vertical-align: middle;\n",
       "    }\n",
       "\n",
       "    .dataframe tbody tr th {\n",
       "        vertical-align: top;\n",
       "    }\n",
       "\n",
       "    .dataframe thead th {\n",
       "        text-align: right;\n",
       "    }\n",
       "</style>\n",
       "<table border=\"1\" class=\"dataframe\">\n",
       "  <thead>\n",
       "    <tr style=\"text-align: right;\">\n",
       "      <th></th>\n",
       "      <th>_rowstate_</th>\n",
       "      <th>Movie</th>\n",
       "      <th>Gender</th>\n",
       "      <th>Marital_Status</th>\n",
       "      <th>Sinage</th>\n",
       "      <th>Parking</th>\n",
       "      <th>Clean</th>\n",
       "      <th>Overall</th>\n",
       "      <th>Age</th>\n",
       "      <th>Income</th>\n",
       "      <th>Hear_About</th>\n",
       "      <th>Gender_1</th>\n",
       "      <th>Marital_Status_1</th>\n",
       "    </tr>\n",
       "  </thead>\n",
       "  <tbody>\n",
       "    <tr>\n",
       "      <th>0</th>\n",
       "      <td>0</td>\n",
       "      <td>Ferris Buellers Day Off</td>\n",
       "      <td>Female</td>\n",
       "      <td>Married</td>\n",
       "      <td>2</td>\n",
       "      <td>2</td>\n",
       "      <td>2</td>\n",
       "      <td>2</td>\n",
       "      <td>3</td>\n",
       "      <td>1</td>\n",
       "      <td>5</td>\n",
       "      <td>1</td>\n",
       "      <td>1</td>\n",
       "    </tr>\n",
       "    <tr>\n",
       "      <th>1</th>\n",
       "      <td>0</td>\n",
       "      <td>Ferris Buellers Day Off</td>\n",
       "      <td>Female</td>\n",
       "      <td>Single</td>\n",
       "      <td>1</td>\n",
       "      <td>1</td>\n",
       "      <td>1</td>\n",
       "      <td>1</td>\n",
       "      <td>2</td>\n",
       "      <td>1</td>\n",
       "      <td>5</td>\n",
       "      <td>1</td>\n",
       "      <td>2</td>\n",
       "    </tr>\n",
       "    <tr>\n",
       "      <th>2</th>\n",
       "      <td>0</td>\n",
       "      <td>Ferris Buellers Day Off</td>\n",
       "      <td>Male</td>\n",
       "      <td>Married</td>\n",
       "      <td>2</td>\n",
       "      <td>4</td>\n",
       "      <td>3</td>\n",
       "      <td>2</td>\n",
       "      <td>4</td>\n",
       "      <td>1</td>\n",
       "      <td>5</td>\n",
       "      <td>2</td>\n",
       "      <td>1</td>\n",
       "    </tr>\n",
       "    <tr>\n",
       "      <th>3</th>\n",
       "      <td>0</td>\n",
       "      <td>Ferris Buellers Day Off</td>\n",
       "      <td>Female</td>\n",
       "      <td>Married</td>\n",
       "      <td>1</td>\n",
       "      <td>3</td>\n",
       "      <td>2</td>\n",
       "      <td>2</td>\n",
       "      <td>4</td>\n",
       "      <td>1</td>\n",
       "      <td>5</td>\n",
       "      <td>1</td>\n",
       "      <td>1</td>\n",
       "    </tr>\n",
       "    <tr>\n",
       "      <th>4</th>\n",
       "      <td>0</td>\n",
       "      <td>Ferris Buellers Day Off</td>\n",
       "      <td>Female</td>\n",
       "      <td>Married</td>\n",
       "      <td>1</td>\n",
       "      <td>1</td>\n",
       "      <td>1</td>\n",
       "      <td>1</td>\n",
       "      <td>3</td>\n",
       "      <td>3</td>\n",
       "      <td>1</td>\n",
       "      <td>1</td>\n",
       "      <td>1</td>\n",
       "    </tr>\n",
       "  </tbody>\n",
       "</table>\n",
       "</div>"
      ],
      "text/plain": [
       "   _rowstate_                    Movie  Gender Marital_Status  Sinage  \\\n",
       "0           0  Ferris Buellers Day Off  Female        Married       2   \n",
       "1           0  Ferris Buellers Day Off  Female         Single       1   \n",
       "2           0  Ferris Buellers Day Off    Male        Married       2   \n",
       "3           0  Ferris Buellers Day Off  Female        Married       1   \n",
       "4           0  Ferris Buellers Day Off  Female        Married       1   \n",
       "\n",
       "   Parking  Clean  Overall  Age  Income Hear_About  Gender_1  Marital_Status_1  \n",
       "0        2      2        2    3       1          5         1                 1  \n",
       "1        1      1        1    2       1          5         1                 2  \n",
       "2        4      3        2    4       1          5         2                 1  \n",
       "3        3      2        2    4       1          5         1                 1  \n",
       "4        1      1        1    3       3          1         1                 1  "
      ]
     },
     "execution_count": 59,
     "metadata": {},
     "output_type": "execute_result"
    }
   ],
   "source": [
    "films['Gender_1'] = np.where(films['Gender'] == \"Female\", 1, 2)\n",
    "films.head()"
   ]
  },
  {
   "cell_type": "code",
   "execution_count": 60,
   "id": "75642a56",
   "metadata": {},
   "outputs": [
    {
     "data": {
      "text/html": [
       "<div>\n",
       "<style scoped>\n",
       "    .dataframe tbody tr th:only-of-type {\n",
       "        vertical-align: middle;\n",
       "    }\n",
       "\n",
       "    .dataframe tbody tr th {\n",
       "        vertical-align: top;\n",
       "    }\n",
       "\n",
       "    .dataframe thead th {\n",
       "        text-align: right;\n",
       "    }\n",
       "</style>\n",
       "<table border=\"1\" class=\"dataframe\">\n",
       "  <thead>\n",
       "    <tr style=\"text-align: right;\">\n",
       "      <th></th>\n",
       "      <th>_rowstate_</th>\n",
       "      <th>Movie</th>\n",
       "      <th>Gender</th>\n",
       "      <th>Marital_Status</th>\n",
       "      <th>Sinage</th>\n",
       "      <th>Parking</th>\n",
       "      <th>Clean</th>\n",
       "      <th>Overall</th>\n",
       "      <th>Age</th>\n",
       "      <th>Income</th>\n",
       "      <th>Hear_About</th>\n",
       "      <th>Gender_1</th>\n",
       "      <th>Marital_Status_1</th>\n",
       "    </tr>\n",
       "  </thead>\n",
       "  <tbody>\n",
       "    <tr>\n",
       "      <th>0</th>\n",
       "      <td>0</td>\n",
       "      <td>Ferris Buellers Day Off</td>\n",
       "      <td>Female</td>\n",
       "      <td>Married</td>\n",
       "      <td>2</td>\n",
       "      <td>2</td>\n",
       "      <td>2</td>\n",
       "      <td>2</td>\n",
       "      <td>3</td>\n",
       "      <td>1</td>\n",
       "      <td>5</td>\n",
       "      <td>1</td>\n",
       "      <td>1</td>\n",
       "    </tr>\n",
       "    <tr>\n",
       "      <th>1</th>\n",
       "      <td>0</td>\n",
       "      <td>Ferris Buellers Day Off</td>\n",
       "      <td>Female</td>\n",
       "      <td>Single</td>\n",
       "      <td>1</td>\n",
       "      <td>1</td>\n",
       "      <td>1</td>\n",
       "      <td>1</td>\n",
       "      <td>2</td>\n",
       "      <td>1</td>\n",
       "      <td>5</td>\n",
       "      <td>1</td>\n",
       "      <td>2</td>\n",
       "    </tr>\n",
       "    <tr>\n",
       "      <th>2</th>\n",
       "      <td>0</td>\n",
       "      <td>Ferris Buellers Day Off</td>\n",
       "      <td>Male</td>\n",
       "      <td>Married</td>\n",
       "      <td>2</td>\n",
       "      <td>4</td>\n",
       "      <td>3</td>\n",
       "      <td>2</td>\n",
       "      <td>4</td>\n",
       "      <td>1</td>\n",
       "      <td>5</td>\n",
       "      <td>2</td>\n",
       "      <td>1</td>\n",
       "    </tr>\n",
       "    <tr>\n",
       "      <th>3</th>\n",
       "      <td>0</td>\n",
       "      <td>Ferris Buellers Day Off</td>\n",
       "      <td>Female</td>\n",
       "      <td>Married</td>\n",
       "      <td>1</td>\n",
       "      <td>3</td>\n",
       "      <td>2</td>\n",
       "      <td>2</td>\n",
       "      <td>4</td>\n",
       "      <td>1</td>\n",
       "      <td>5</td>\n",
       "      <td>1</td>\n",
       "      <td>1</td>\n",
       "    </tr>\n",
       "    <tr>\n",
       "      <th>4</th>\n",
       "      <td>0</td>\n",
       "      <td>Ferris Buellers Day Off</td>\n",
       "      <td>Female</td>\n",
       "      <td>Married</td>\n",
       "      <td>1</td>\n",
       "      <td>1</td>\n",
       "      <td>1</td>\n",
       "      <td>1</td>\n",
       "      <td>3</td>\n",
       "      <td>3</td>\n",
       "      <td>1</td>\n",
       "      <td>1</td>\n",
       "      <td>1</td>\n",
       "    </tr>\n",
       "  </tbody>\n",
       "</table>\n",
       "</div>"
      ],
      "text/plain": [
       "   _rowstate_                    Movie  Gender Marital_Status  Sinage  \\\n",
       "0           0  Ferris Buellers Day Off  Female        Married       2   \n",
       "1           0  Ferris Buellers Day Off  Female         Single       1   \n",
       "2           0  Ferris Buellers Day Off    Male        Married       2   \n",
       "3           0  Ferris Buellers Day Off  Female        Married       1   \n",
       "4           0  Ferris Buellers Day Off  Female        Married       1   \n",
       "\n",
       "   Parking  Clean  Overall  Age  Income Hear_About  Gender_1  Marital_Status_1  \n",
       "0        2      2        2    3       1          5         1                 1  \n",
       "1        1      1        1    2       1          5         1                 2  \n",
       "2        4      3        2    4       1          5         2                 1  \n",
       "3        3      2        2    4       1          5         1                 1  \n",
       "4        1      1        1    3       3          1         1                 1  "
      ]
     },
     "execution_count": 60,
     "metadata": {},
     "output_type": "execute_result"
    }
   ],
   "source": [
    "films['Marital_Status_1'] = np.where(films['Marital_Status'] == \"Married\", 1, 2)\n",
    "films.head()"
   ]
  },
  {
   "cell_type": "code",
   "execution_count": 18,
   "id": "34f380b2",
   "metadata": {},
   "outputs": [],
   "source": [
    "films['Sinage'] = films['Sinage'].astype(int)\n",
    "films['Parking'] = films['Parking'].astype(int)\n",
    "films['Clean'] = films['Clean'].astype(int)\n",
    "films['Overall'] = films['Overall'].astype(int)\n",
    "films['Age'] = films['Age'].astype(int)\n",
    "films['Income'] = films['Income'].astype(int)"
   ]
  },
  {
   "cell_type": "code",
   "execution_count": 16,
   "id": "296e6288",
   "metadata": {},
   "outputs": [
    {
     "data": {
      "text/plain": [
       "_rowstate_           int64\n",
       "Movie               object\n",
       "Gender              object\n",
       "Marital_Status      object\n",
       "Sinage               int32\n",
       "Parking              int32\n",
       "Clean                int32\n",
       "Overall              int32\n",
       "Age                  int32\n",
       "Income               int32\n",
       "Hear_About          object\n",
       "Gender_1             int32\n",
       "Marital_Status_1     int32\n",
       "dtype: object"
      ]
     },
     "execution_count": 16,
     "metadata": {},
     "output_type": "execute_result"
    }
   ],
   "source": [
    "films.dtypes"
   ]
  },
  {
   "cell_type": "code",
   "execution_count": null,
   "id": "ce6fc074",
   "metadata": {},
   "outputs": [],
   "source": [
    "H0- The customer stisfaction is bad\n",
    "Ha- The customer satisfaction is good\n",
    "CI - 95%\n",
    "p - 0.05"
   ]
  },
  {
   "cell_type": "code",
   "execution_count": 19,
   "id": "a25f3dcf",
   "metadata": {},
   "outputs": [],
   "source": [
    "obs_freq = pd.crosstab(films.Overall,films.Age)"
   ]
  },
  {
   "cell_type": "code",
   "execution_count": 20,
   "id": "9c90874b",
   "metadata": {},
   "outputs": [
    {
     "data": {
      "text/plain": [
       "(11.024837235069565,\n",
       " 0.5267913370930692,\n",
       " 12,\n",
       " array([[1.00132890e+01, 7.46445183e+01, 4.91561462e+01, 3.18604651e+00],\n",
       "        [1.08172757e+01, 8.06378738e+01, 5.31029900e+01, 3.44186047e+00],\n",
       "        [8.77076412e-01, 6.53820598e+00, 4.30564784e+00, 2.79069767e-01],\n",
       "        [7.30897010e-02, 5.44850498e-01, 3.58803987e-01, 2.32558140e-02],\n",
       "        [2.19269103e-01, 1.63455150e+00, 1.07641196e+00, 6.97674419e-02]]))"
      ]
     },
     "execution_count": 20,
     "metadata": {},
     "output_type": "execute_result"
    }
   ],
   "source": [
    "stats.chi2_contingency(obs_freq)"
   ]
  },
  {
   "cell_type": "code",
   "execution_count": 21,
   "id": "494b0144",
   "metadata": {},
   "outputs": [],
   "source": [
    "c, p, dof, expected = chi2_contingency(obs_freq)"
   ]
  },
  {
   "cell_type": "code",
   "execution_count": 22,
   "id": "85457beb",
   "metadata": {},
   "outputs": [
    {
     "data": {
      "text/plain": [
       "0.5267913370930692"
      ]
     },
     "execution_count": 22,
     "metadata": {},
     "output_type": "execute_result"
    }
   ],
   "source": [
    "p"
   ]
  },
  {
   "cell_type": "code",
   "execution_count": null,
   "id": "72c9f92e",
   "metadata": {},
   "outputs": [],
   "source": [
    "Reject the null hypothesis"
   ]
  },
  {
   "cell_type": "code",
   "execution_count": null,
   "id": "1e2c9893",
   "metadata": {},
   "outputs": [],
   "source": [
    "# What factors are linked to satisfaction?"
   ]
  },
  {
   "cell_type": "code",
   "execution_count": 24,
   "id": "fb7db105",
   "metadata": {},
   "outputs": [
    {
     "data": {
      "text/html": [
       "<div>\n",
       "<style scoped>\n",
       "    .dataframe tbody tr th:only-of-type {\n",
       "        vertical-align: middle;\n",
       "    }\n",
       "\n",
       "    .dataframe tbody tr th {\n",
       "        vertical-align: top;\n",
       "    }\n",
       "\n",
       "    .dataframe thead th {\n",
       "        text-align: right;\n",
       "    }\n",
       "</style>\n",
       "<table border=\"1\" class=\"dataframe\">\n",
       "  <thead>\n",
       "    <tr style=\"text-align: right;\">\n",
       "      <th></th>\n",
       "      <th>_rowstate_</th>\n",
       "      <th>Movie</th>\n",
       "      <th>Gender</th>\n",
       "      <th>Marital_Status</th>\n",
       "      <th>Sinage</th>\n",
       "      <th>Parking</th>\n",
       "      <th>Clean</th>\n",
       "      <th>Overall</th>\n",
       "      <th>Age</th>\n",
       "      <th>Income</th>\n",
       "      <th>Hear_About</th>\n",
       "      <th>Gender_1</th>\n",
       "      <th>Marital_Status_1</th>\n",
       "    </tr>\n",
       "  </thead>\n",
       "  <tbody>\n",
       "    <tr>\n",
       "      <th>0</th>\n",
       "      <td>0</td>\n",
       "      <td>Ferris Buellers Day Off</td>\n",
       "      <td>Female</td>\n",
       "      <td>Married</td>\n",
       "      <td>2</td>\n",
       "      <td>2</td>\n",
       "      <td>2</td>\n",
       "      <td>2</td>\n",
       "      <td>3</td>\n",
       "      <td>1</td>\n",
       "      <td>5</td>\n",
       "      <td>1</td>\n",
       "      <td>1</td>\n",
       "    </tr>\n",
       "    <tr>\n",
       "      <th>1</th>\n",
       "      <td>0</td>\n",
       "      <td>Ferris Buellers Day Off</td>\n",
       "      <td>Female</td>\n",
       "      <td>Single</td>\n",
       "      <td>1</td>\n",
       "      <td>1</td>\n",
       "      <td>1</td>\n",
       "      <td>1</td>\n",
       "      <td>2</td>\n",
       "      <td>1</td>\n",
       "      <td>5</td>\n",
       "      <td>1</td>\n",
       "      <td>0</td>\n",
       "    </tr>\n",
       "    <tr>\n",
       "      <th>2</th>\n",
       "      <td>0</td>\n",
       "      <td>Ferris Buellers Day Off</td>\n",
       "      <td>Male</td>\n",
       "      <td>Married</td>\n",
       "      <td>2</td>\n",
       "      <td>4</td>\n",
       "      <td>3</td>\n",
       "      <td>2</td>\n",
       "      <td>4</td>\n",
       "      <td>1</td>\n",
       "      <td>5</td>\n",
       "      <td>0</td>\n",
       "      <td>1</td>\n",
       "    </tr>\n",
       "    <tr>\n",
       "      <th>3</th>\n",
       "      <td>0</td>\n",
       "      <td>Ferris Buellers Day Off</td>\n",
       "      <td>Female</td>\n",
       "      <td>Married</td>\n",
       "      <td>1</td>\n",
       "      <td>3</td>\n",
       "      <td>2</td>\n",
       "      <td>2</td>\n",
       "      <td>4</td>\n",
       "      <td>1</td>\n",
       "      <td>5</td>\n",
       "      <td>1</td>\n",
       "      <td>1</td>\n",
       "    </tr>\n",
       "    <tr>\n",
       "      <th>4</th>\n",
       "      <td>0</td>\n",
       "      <td>Ferris Buellers Day Off</td>\n",
       "      <td>Female</td>\n",
       "      <td>Married</td>\n",
       "      <td>1</td>\n",
       "      <td>1</td>\n",
       "      <td>1</td>\n",
       "      <td>1</td>\n",
       "      <td>3</td>\n",
       "      <td>3</td>\n",
       "      <td>1</td>\n",
       "      <td>1</td>\n",
       "      <td>1</td>\n",
       "    </tr>\n",
       "  </tbody>\n",
       "</table>\n",
       "</div>"
      ],
      "text/plain": [
       "   _rowstate_                    Movie  Gender Marital_Status  Sinage  \\\n",
       "0           0  Ferris Buellers Day Off  Female        Married       2   \n",
       "1           0  Ferris Buellers Day Off  Female         Single       1   \n",
       "2           0  Ferris Buellers Day Off    Male        Married       2   \n",
       "3           0  Ferris Buellers Day Off  Female        Married       1   \n",
       "4           0  Ferris Buellers Day Off  Female        Married       1   \n",
       "\n",
       "   Parking  Clean  Overall  Age  Income Hear_About  Gender_1  Marital_Status_1  \n",
       "0        2      2        2    3       1          5         1                 1  \n",
       "1        1      1        1    2       1          5         1                 0  \n",
       "2        4      3        2    4       1          5         0                 1  \n",
       "3        3      2        2    4       1          5         1                 1  \n",
       "4        1      1        1    3       3          1         1                 1  "
      ]
     },
     "execution_count": 24,
     "metadata": {},
     "output_type": "execute_result"
    }
   ],
   "source": [
    "films.head()"
   ]
  },
  {
   "cell_type": "code",
   "execution_count": 27,
   "id": "a5ff9ecf",
   "metadata": {},
   "outputs": [],
   "source": [
    "H0- The overall sastisfation is not high\n",
    "Ha- The overall satisfaction is high\n",
    "CI - 95%\n",
    "p - 0.05"
   ]
  },
  {
   "cell_type": "code",
   "execution_count": 28,
   "id": "19ea5de1",
   "metadata": {},
   "outputs": [],
   "source": [
    "obs_freq1= pd.crosstab(films.Parking,films.Overall)"
   ]
  },
  {
   "cell_type": "code",
   "execution_count": 29,
   "id": "4b19d949",
   "metadata": {},
   "outputs": [
    {
     "data": {
      "text/plain": [
       "(218.79348282085004,\n",
       " 1.2264032549812005e-37,\n",
       " 16,\n",
       " array([[5.55282392e+01, 5.99867110e+01, 4.86378738e+00, 4.05315615e-01,\n",
       "         1.21594684e+00],\n",
       "        [6.32657807e+01, 6.83455150e+01, 5.54152824e+00, 4.61794020e-01,\n",
       "         1.38538206e+00],\n",
       "        [1.31993355e+01, 1.42591362e+01, 1.15614618e+00, 9.63455150e-02,\n",
       "         2.89036545e-01],\n",
       "        [3.18604651e+00, 3.44186047e+00, 2.79069767e-01, 2.32558140e-02,\n",
       "         6.97674419e-02],\n",
       "        [1.82059801e+00, 1.96677741e+00, 1.59468439e-01, 1.32890365e-02,\n",
       "         3.98671096e-02]]))"
      ]
     },
     "execution_count": 29,
     "metadata": {},
     "output_type": "execute_result"
    }
   ],
   "source": [
    "stats.chi2_contingency(obs_freq1)"
   ]
  },
  {
   "cell_type": "code",
   "execution_count": 30,
   "id": "fbc4a17d",
   "metadata": {},
   "outputs": [],
   "source": [
    "c, p, dof, expected = chi2_contingency(obs_freq1)"
   ]
  },
  {
   "cell_type": "code",
   "execution_count": 31,
   "id": "571dfb5c",
   "metadata": {},
   "outputs": [
    {
     "data": {
      "text/plain": [
       "1.2264032549812005e-37"
      ]
     },
     "execution_count": 31,
     "metadata": {},
     "output_type": "execute_result"
    }
   ],
   "source": [
    "p"
   ]
  },
  {
   "cell_type": "code",
   "execution_count": null,
   "id": "677e41ad",
   "metadata": {},
   "outputs": [],
   "source": [
    "Reject the null hypothesis"
   ]
  },
  {
   "cell_type": "code",
   "execution_count": 32,
   "id": "6c3e3c5a",
   "metadata": {},
   "outputs": [],
   "source": [
    "#What is the demographic profile of Film on the Rocks patrons?"
   ]
  },
  {
   "cell_type": "code",
   "execution_count": 33,
   "id": "987e926b",
   "metadata": {},
   "outputs": [
    {
     "data": {
      "text/html": [
       "<div>\n",
       "<style scoped>\n",
       "    .dataframe tbody tr th:only-of-type {\n",
       "        vertical-align: middle;\n",
       "    }\n",
       "\n",
       "    .dataframe tbody tr th {\n",
       "        vertical-align: top;\n",
       "    }\n",
       "\n",
       "    .dataframe thead th {\n",
       "        text-align: right;\n",
       "    }\n",
       "</style>\n",
       "<table border=\"1\" class=\"dataframe\">\n",
       "  <thead>\n",
       "    <tr style=\"text-align: right;\">\n",
       "      <th></th>\n",
       "      <th>_rowstate_</th>\n",
       "      <th>Movie</th>\n",
       "      <th>Gender</th>\n",
       "      <th>Marital_Status</th>\n",
       "      <th>Sinage</th>\n",
       "      <th>Parking</th>\n",
       "      <th>Clean</th>\n",
       "      <th>Overall</th>\n",
       "      <th>Age</th>\n",
       "      <th>Income</th>\n",
       "      <th>Hear_About</th>\n",
       "      <th>Gender_1</th>\n",
       "      <th>Marital_Status_1</th>\n",
       "    </tr>\n",
       "  </thead>\n",
       "  <tbody>\n",
       "    <tr>\n",
       "      <th>0</th>\n",
       "      <td>0</td>\n",
       "      <td>Ferris Buellers Day Off</td>\n",
       "      <td>Female</td>\n",
       "      <td>Married</td>\n",
       "      <td>2</td>\n",
       "      <td>2</td>\n",
       "      <td>2</td>\n",
       "      <td>2</td>\n",
       "      <td>3</td>\n",
       "      <td>1</td>\n",
       "      <td>5</td>\n",
       "      <td>1</td>\n",
       "      <td>1</td>\n",
       "    </tr>\n",
       "    <tr>\n",
       "      <th>1</th>\n",
       "      <td>0</td>\n",
       "      <td>Ferris Buellers Day Off</td>\n",
       "      <td>Female</td>\n",
       "      <td>Single</td>\n",
       "      <td>1</td>\n",
       "      <td>1</td>\n",
       "      <td>1</td>\n",
       "      <td>1</td>\n",
       "      <td>2</td>\n",
       "      <td>1</td>\n",
       "      <td>5</td>\n",
       "      <td>1</td>\n",
       "      <td>0</td>\n",
       "    </tr>\n",
       "    <tr>\n",
       "      <th>2</th>\n",
       "      <td>0</td>\n",
       "      <td>Ferris Buellers Day Off</td>\n",
       "      <td>Male</td>\n",
       "      <td>Married</td>\n",
       "      <td>2</td>\n",
       "      <td>4</td>\n",
       "      <td>3</td>\n",
       "      <td>2</td>\n",
       "      <td>4</td>\n",
       "      <td>1</td>\n",
       "      <td>5</td>\n",
       "      <td>0</td>\n",
       "      <td>1</td>\n",
       "    </tr>\n",
       "    <tr>\n",
       "      <th>3</th>\n",
       "      <td>0</td>\n",
       "      <td>Ferris Buellers Day Off</td>\n",
       "      <td>Female</td>\n",
       "      <td>Married</td>\n",
       "      <td>1</td>\n",
       "      <td>3</td>\n",
       "      <td>2</td>\n",
       "      <td>2</td>\n",
       "      <td>4</td>\n",
       "      <td>1</td>\n",
       "      <td>5</td>\n",
       "      <td>1</td>\n",
       "      <td>1</td>\n",
       "    </tr>\n",
       "    <tr>\n",
       "      <th>4</th>\n",
       "      <td>0</td>\n",
       "      <td>Ferris Buellers Day Off</td>\n",
       "      <td>Female</td>\n",
       "      <td>Married</td>\n",
       "      <td>1</td>\n",
       "      <td>1</td>\n",
       "      <td>1</td>\n",
       "      <td>1</td>\n",
       "      <td>3</td>\n",
       "      <td>3</td>\n",
       "      <td>1</td>\n",
       "      <td>1</td>\n",
       "      <td>1</td>\n",
       "    </tr>\n",
       "  </tbody>\n",
       "</table>\n",
       "</div>"
      ],
      "text/plain": [
       "   _rowstate_                    Movie  Gender Marital_Status  Sinage  \\\n",
       "0           0  Ferris Buellers Day Off  Female        Married       2   \n",
       "1           0  Ferris Buellers Day Off  Female         Single       1   \n",
       "2           0  Ferris Buellers Day Off    Male        Married       2   \n",
       "3           0  Ferris Buellers Day Off  Female        Married       1   \n",
       "4           0  Ferris Buellers Day Off  Female        Married       1   \n",
       "\n",
       "   Parking  Clean  Overall  Age  Income Hear_About  Gender_1  Marital_Status_1  \n",
       "0        2      2        2    3       1          5         1                 1  \n",
       "1        1      1        1    2       1          5         1                 0  \n",
       "2        4      3        2    4       1          5         0                 1  \n",
       "3        3      2        2    4       1          5         1                 1  \n",
       "4        1      1        1    3       3          1         1                 1  "
      ]
     },
     "execution_count": 33,
     "metadata": {},
     "output_type": "execute_result"
    }
   ],
   "source": [
    "films.head()"
   ]
  },
  {
   "cell_type": "code",
   "execution_count": 61,
   "id": "039413e5",
   "metadata": {},
   "outputs": [
    {
     "data": {
      "text/plain": [
       "<AxesSubplot:>"
      ]
     },
     "execution_count": 61,
     "metadata": {},
     "output_type": "execute_result"
    },
    {
     "data": {
      "image/png": "[encoded data removed]",
      "text/plain": [
       "<Figure size 432x288 with 1 Axes>"
      ]
     },
     "metadata": {
      "needs_background": "light"
     },
     "output_type": "display_data"
    }
   ],
   "source": [
    "films['Gender_1'].value_counts().plot.bar()\n",
    "#Female are more than male customers"
   ]
  },
  {
   "cell_type": "code",
   "execution_count": 57,
   "id": "58c3bbd1",
   "metadata": {},
   "outputs": [
    {
     "data": {
      "text/plain": [
       "<AxesSubplot:>"
      ]
     },
     "execution_count": 57,
     "metadata": {},
     "output_type": "execute_result"
    },
    {
     "data": {
      "image/png": "[encoded data removed]",
      "text/plain": [
       "<Figure size 432x288 with 1 Axes>"
      ]
     },
     "metadata": {
      "needs_background": "light"
     },
     "output_type": "display_data"
    }
   ],
   "source": [
    "films['Marital_Status_1'].value_counts().plot.bar()\n",
    "#single people are more than married couples"
   ]
  },
  {
   "cell_type": "code",
   "execution_count": 53,
   "id": "fa8fb3cc",
   "metadata": {},
   "outputs": [
    {
     "data": {
      "text/plain": [
       "<AxesSubplot:>"
      ]
     },
     "execution_count": 53,
     "metadata": {},
     "output_type": "execute_result"
    },
    {
     "data": {
      "image/png": "[encoded data removed]",
      "text/plain": [
       "<Figure size 432x288 with 1 Axes>"
      ]
     },
     "metadata": {
      "needs_background": "light"
     },
     "output_type": "display_data"
    }
   ],
   "source": [
    "films['Age'].value_counts().plot.bar()\n",
    "# 13-30 age group is watching more movies than any other age group"
   ]
  },
  {
   "cell_type": "code",
   "execution_count": 54,
   "id": "7b605ff3",
   "metadata": {},
   "outputs": [
    {
     "data": {
      "text/plain": [
       "<AxesSubplot:>"
      ]
     },
     "execution_count": 54,
     "metadata": {},
     "output_type": "execute_result"
    },
    {
     "data": {
      "image/png": "[encoded data removed]",
      "text/plain": [
       "<Figure size 432x288 with 1 Axes>"
      ]
     },
     "metadata": {
      "needs_background": "light"
     },
     "output_type": "display_data"
    }
   ],
   "source": [
    "films['Income'].value_counts().plot.bar()\n",
    "# Income group 1 has more viewers than Group 3 and 2"
   ]
  },
  {
   "cell_type": "code",
   "execution_count": null,
   "id": "17cefd57",
   "metadata": {},
   "outputs": [],
   "source": [
    "#In what media outlet(s) should the film series be advertised?"
   ]
  },
  {
   "cell_type": "code",
   "execution_count": 55,
   "id": "1f59cbfb",
   "metadata": {},
   "outputs": [
    {
     "data": {
      "text/plain": [
       "<AxesSubplot:>"
      ]
     },
     "execution_count": 55,
     "metadata": {},
     "output_type": "execute_result"
    },
    {
     "data": {
      "image/png": "[encoded data removed]",
      "text/plain": [
       "<Figure size 432x288 with 1 Axes>"
      ]
     },
     "metadata": {
      "needs_background": "light"
     },
     "output_type": "display_data"
    }
   ],
   "source": [
    "films['Hear_About'].value_counts().plot.bar()"
   ]
  },
  {
   "cell_type": "code",
   "execution_count": null,
   "id": "119d84fd",
   "metadata": {},
   "outputs": [],
   "source": [
    "The film should be advertized on Websites"
   ]
  }
 ],
 "metadata": {
  "kernelspec": {
   "display_name": "Python 3",
   "language": "python",
   "name": "python3"
  },
  "language_info": {
   "codemirror_mode": {
    "name": "ipython",
    "version": 3
   },
   "file_extension": ".py",
   "mimetype": "text/x-python",
   "name": "python",
   "nbconvert_exporter": "python",
   "pygments_lexer": "ipython3",
   "version": "3.8.8"
  }
 },
 "nbformat": 4,
 "nbformat_minor": 5
}
